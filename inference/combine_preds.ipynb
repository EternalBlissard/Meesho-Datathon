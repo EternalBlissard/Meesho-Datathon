{
 "cells": [
  {
   "cell_type": "code",
   "execution_count": 1,
   "metadata": {},
   "outputs": [],
   "source": [
    "import pandas as pd"
   ]
  },
  {
   "cell_type": "code",
   "execution_count": 5,
   "metadata": {},
   "outputs": [],
   "source": [
    "categories=['Men Tshirts','Sarees','Kurtis','Women Tshirts','Women Tops & Tunics']\n",
    "df=None\n",
    "for i in categories:\n",
    "    d2f=pd.read_csv(\"preds/\"+i+'.csv')\n",
    "    # if df==None:\n",
    "    #     df=d2f\n",
    "    # else:\n",
    "    df=pd.concat([df,d2f])\n",
    "df.fillna(\"default\",inplace=True)\n",
    "df.to_csv(\"preds.csv\")"
   ]
  }
 ],
 "metadata": {
  "kernelspec": {
   "display_name": "mhcp4",
   "language": "python",
   "name": "python3"
  },
  "language_info": {
   "codemirror_mode": {
    "name": "ipython",
    "version": 3
   },
   "file_extension": ".py",
   "mimetype": "text/x-python",
   "name": "python",
   "nbconvert_exporter": "python",
   "pygments_lexer": "ipython3",
   "version": "3.8.19"
  }
 },
 "nbformat": 4,
 "nbformat_minor": 2
}
