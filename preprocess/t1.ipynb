{
 "cells": [
  {
   "cell_type": "code",
   "execution_count": 1,
   "metadata": {},
   "outputs": [],
   "source": [
    "import pandas as pd\n",
    "\n",
    "# Read Parquet file into a DataFrame\n",
    "df = pd.read_parquet('category_attributes.parquet')\n",
    "\n",
    "# Display the first few rows\n",
    "# df.to_csv(\"categories.csv\")"
   ]
  },
  {
   "cell_type": "code",
   "execution_count": 2,
   "metadata": {},
   "outputs": [
    {
     "data": {
      "text/html": [
       "<div>\n",
       "<style scoped>\n",
       "    .dataframe tbody tr th:only-of-type {\n",
       "        vertical-align: middle;\n",
       "    }\n",
       "\n",
       "    .dataframe tbody tr th {\n",
       "        vertical-align: top;\n",
       "    }\n",
       "\n",
       "    .dataframe thead th {\n",
       "        text-align: right;\n",
       "    }\n",
       "</style>\n",
       "<table border=\"1\" class=\"dataframe\">\n",
       "  <thead>\n",
       "    <tr style=\"text-align: right;\">\n",
       "      <th></th>\n",
       "      <th>Category</th>\n",
       "      <th>No_of_attribute</th>\n",
       "      <th>Attribute_list</th>\n",
       "    </tr>\n",
       "  </thead>\n",
       "  <tbody>\n",
       "    <tr>\n",
       "      <th>0</th>\n",
       "      <td>Men Tshirts</td>\n",
       "      <td>5</td>\n",
       "      <td>[color, neck, pattern, print_or_pattern_type, ...</td>\n",
       "    </tr>\n",
       "    <tr>\n",
       "      <th>1</th>\n",
       "      <td>Sarees</td>\n",
       "      <td>10</td>\n",
       "      <td>[blouse_pattern, border, border_width, color, ...</td>\n",
       "    </tr>\n",
       "    <tr>\n",
       "      <th>2</th>\n",
       "      <td>Kurtis</td>\n",
       "      <td>9</td>\n",
       "      <td>[color, fit_shape, length, occasion, ornamenta...</td>\n",
       "    </tr>\n",
       "    <tr>\n",
       "      <th>3</th>\n",
       "      <td>Women Tshirts</td>\n",
       "      <td>8</td>\n",
       "      <td>[color, fit_shape, length, pattern, print_or_p...</td>\n",
       "    </tr>\n",
       "    <tr>\n",
       "      <th>4</th>\n",
       "      <td>Women Tops &amp; Tunics</td>\n",
       "      <td>10</td>\n",
       "      <td>[color, fit_shape, length, neck_collar, ocassi...</td>\n",
       "    </tr>\n",
       "  </tbody>\n",
       "</table>\n",
       "</div>"
      ],
      "text/plain": [
       "              Category  No_of_attribute  \\\n",
       "0          Men Tshirts                5   \n",
       "1               Sarees               10   \n",
       "2               Kurtis                9   \n",
       "3        Women Tshirts                8   \n",
       "4  Women Tops & Tunics               10   \n",
       "\n",
       "                                      Attribute_list  \n",
       "0  [color, neck, pattern, print_or_pattern_type, ...  \n",
       "1  [blouse_pattern, border, border_width, color, ...  \n",
       "2  [color, fit_shape, length, occasion, ornamenta...  \n",
       "3  [color, fit_shape, length, pattern, print_or_p...  \n",
       "4  [color, fit_shape, length, neck_collar, ocassi...  "
      ]
     },
     "execution_count": 2,
     "metadata": {},
     "output_type": "execute_result"
    }
   ],
   "source": [
    "df.head()"
   ]
  },
  {
   "cell_type": "code",
   "execution_count": 6,
   "metadata": {},
   "outputs": [
    {
     "name": "stdout",
     "output_type": "stream",
     "text": [
      "['color' 'neck' 'pattern' 'print_or_pattern_type' 'sleeve_length']\n"
     ]
    }
   ],
   "source": [
    "print(df.iloc[0,2])"
   ]
  },
  {
   "cell_type": "code",
   "execution_count": 9,
   "metadata": {},
   "outputs": [
    {
     "name": "stdout",
     "output_type": "stream",
     "text": [
      "['color' 'neck' 'pattern' 'print_or_pattern_type' 'sleeve_length']\n",
      "['blouse_pattern' 'border' 'border_width' 'color' 'occasion'\n",
      " 'ornamentation' 'pallu_details' 'pattern' 'print_or_pattern_type'\n",
      " 'transparency']\n",
      "['color' 'fit_shape' 'length' 'occasion' 'ornamentation' 'pattern'\n",
      " 'print_or_pattern_type' 'sleeve_length' 'sleeve_styling']\n",
      "['color' 'fit_shape' 'length' 'pattern' 'print_or_pattern_type'\n",
      " 'sleeve_length' 'sleeve_styling' 'surface_styling']\n",
      "['color' 'fit_shape' 'length' 'neck_collar' 'ocassion' 'pattern'\n",
      " 'print_or_pattern_type' 'sleeve_length' 'sleeve_styling'\n",
      " 'surface_styling']\n",
      "{'Men Tshirts': ['color', 'neck', 'pattern', 'print_or_pattern_type', 'sleeve_length'], 'Sarees': ['blouse_pattern', 'border', 'border_width', 'color', 'occasion', 'ornamentation', 'pallu_details', 'pattern', 'print_or_pattern_type', 'transparency'], 'Kurtis': ['color', 'fit_shape', 'length', 'occasion', 'ornamentation', 'pattern', 'print_or_pattern_type', 'sleeve_length', 'sleeve_styling'], 'Women Tshirts': ['color', 'fit_shape', 'length', 'pattern', 'print_or_pattern_type', 'sleeve_length', 'sleeve_styling', 'surface_styling'], 'Women Tops & Tunics': ['color', 'fit_shape', 'length', 'neck_collar', 'ocassion', 'pattern', 'print_or_pattern_type', 'sleeve_length', 'sleeve_styling', 'surface_styling']}\n"
     ]
    }
   ],
   "source": [
    "import json\n",
    "import numpy as np\n",
    "d={}\n",
    "for i in range(len(df)):\n",
    "    if df.iloc[i,0] not in d:\n",
    "        d[df.iloc[i,0]]=[]\n",
    "    print(df.iloc[i,2])\n",
    "    d[df.iloc[i,0]]=df.iloc[i,2].tolist()\n",
    "print(d)\n",
    "with open(\"categories.json\",\"w\") as f:\n",
    "    json.dump(d,f)"
   ]
  },
  {
   "cell_type": "code",
   "execution_count": null,
   "metadata": {},
   "outputs": [],
   "source": []
  }
 ],
 "metadata": {
  "kernelspec": {
   "display_name": "mhcp4",
   "language": "python",
   "name": "python3"
  },
  "language_info": {
   "codemirror_mode": {
    "name": "ipython",
    "version": 3
   },
   "file_extension": ".py",
   "mimetype": "text/x-python",
   "name": "python",
   "nbconvert_exporter": "python",
   "pygments_lexer": "ipython3",
   "version": "3.8.19"
  }
 },
 "nbformat": 4,
 "nbformat_minor": 2
}
