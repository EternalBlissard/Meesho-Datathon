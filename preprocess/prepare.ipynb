{
 "cells": [
  {
   "cell_type": "code",
   "execution_count": 1,
   "id": "95d0e195-83c1-4341-8f4f-c6df614bc0c6",
   "metadata": {
    "execution": {
     "iopub.execute_input": "2024-10-14T07:33:04.967871Z",
     "iopub.status.busy": "2024-10-14T07:33:04.967356Z",
     "iopub.status.idle": "2024-10-14T07:33:06.019111Z",
     "shell.execute_reply": "2024-10-14T07:33:06.018566Z",
     "shell.execute_reply.started": "2024-10-14T07:33:04.967871Z"
    }
   },
   "outputs": [],
   "source": [
    "import pandas as pd\n",
    "import os"
   ]
  },
  {
   "cell_type": "code",
   "execution_count": 2,
   "id": "10b82d6a-b059-4250-99f0-106b9fb1e4e6",
   "metadata": {
    "execution": {
     "iopub.execute_input": "2024-10-14T07:33:31.591171Z",
     "iopub.status.busy": "2024-10-14T07:33:31.590523Z",
     "iopub.status.idle": "2024-10-14T07:33:31.723998Z",
     "shell.execute_reply": "2024-10-14T07:33:31.723535Z",
     "shell.execute_reply.started": "2024-10-14T07:33:31.591148Z"
    }
   },
   "outputs": [],
   "source": [
    "df = pd.read_csv(\"visual-taxonomy/train.csv\")"
   ]
  },
  {
   "cell_type": "code",
   "execution_count": 4,
   "id": "0c4cff8a-7011-4cfb-80f2-287de7b1a231",
   "metadata": {
    "execution": {
     "iopub.execute_input": "2024-10-14T07:34:33.847770Z",
     "iopub.status.busy": "2024-10-14T07:34:33.847543Z",
     "iopub.status.idle": "2024-10-14T07:34:33.856027Z",
     "shell.execute_reply": "2024-10-14T07:34:33.855562Z",
     "shell.execute_reply.started": "2024-10-14T07:34:33.847749Z"
    }
   },
   "outputs": [],
   "source": [
    "uniNames = df[\"Category\"].unique()"
   ]
  },
  {
   "cell_type": "code",
   "execution_count": 8,
   "id": "74e96298-308e-4132-93af-ea70f2267f02",
   "metadata": {
    "execution": {
     "iopub.execute_input": "2024-10-14T07:37:36.010850Z",
     "iopub.status.busy": "2024-10-14T07:37:36.010160Z",
     "iopub.status.idle": "2024-10-14T07:37:36.018620Z",
     "shell.execute_reply": "2024-10-14T07:37:36.018048Z",
     "shell.execute_reply.started": "2024-10-14T07:37:36.010829Z"
    }
   },
   "outputs": [
    {
     "data": {
      "text/html": [
       "<div>\n",
       "<style scoped>\n",
       "    .dataframe tbody tr th:only-of-type {\n",
       "        vertical-align: middle;\n",
       "    }\n",
       "\n",
       "    .dataframe tbody tr th {\n",
       "        vertical-align: top;\n",
       "    }\n",
       "\n",
       "    .dataframe thead th {\n",
       "        text-align: right;\n",
       "    }\n",
       "</style>\n",
       "<table border=\"1\" class=\"dataframe\">\n",
       "  <thead>\n",
       "    <tr style=\"text-align: right;\">\n",
       "      <th></th>\n",
       "      <th>id</th>\n",
       "      <th>Category</th>\n",
       "      <th>len</th>\n",
       "      <th>attr_1</th>\n",
       "      <th>attr_2</th>\n",
       "      <th>attr_3</th>\n",
       "      <th>attr_4</th>\n",
       "      <th>attr_5</th>\n",
       "      <th>attr_6</th>\n",
       "      <th>attr_7</th>\n",
       "      <th>attr_8</th>\n",
       "      <th>attr_9</th>\n",
       "      <th>attr_10</th>\n",
       "    </tr>\n",
       "  </thead>\n",
       "  <tbody>\n",
       "    <tr>\n",
       "      <th>0</th>\n",
       "      <td>0</td>\n",
       "      <td>Men Tshirts</td>\n",
       "      <td>5</td>\n",
       "      <td>default</td>\n",
       "      <td>round</td>\n",
       "      <td>printed</td>\n",
       "      <td>default</td>\n",
       "      <td>short sleeves</td>\n",
       "      <td>NaN</td>\n",
       "      <td>NaN</td>\n",
       "      <td>NaN</td>\n",
       "      <td>NaN</td>\n",
       "      <td>NaN</td>\n",
       "    </tr>\n",
       "    <tr>\n",
       "      <th>1</th>\n",
       "      <td>1</td>\n",
       "      <td>Men Tshirts</td>\n",
       "      <td>5</td>\n",
       "      <td>multicolor</td>\n",
       "      <td>polo</td>\n",
       "      <td>solid</td>\n",
       "      <td>solid</td>\n",
       "      <td>short sleeves</td>\n",
       "      <td>NaN</td>\n",
       "      <td>NaN</td>\n",
       "      <td>NaN</td>\n",
       "      <td>NaN</td>\n",
       "      <td>NaN</td>\n",
       "    </tr>\n",
       "    <tr>\n",
       "      <th>2</th>\n",
       "      <td>2</td>\n",
       "      <td>Men Tshirts</td>\n",
       "      <td>5</td>\n",
       "      <td>default</td>\n",
       "      <td>polo</td>\n",
       "      <td>solid</td>\n",
       "      <td>solid</td>\n",
       "      <td>short sleeves</td>\n",
       "      <td>NaN</td>\n",
       "      <td>NaN</td>\n",
       "      <td>NaN</td>\n",
       "      <td>NaN</td>\n",
       "      <td>NaN</td>\n",
       "    </tr>\n",
       "    <tr>\n",
       "      <th>3</th>\n",
       "      <td>3</td>\n",
       "      <td>Men Tshirts</td>\n",
       "      <td>5</td>\n",
       "      <td>multicolor</td>\n",
       "      <td>polo</td>\n",
       "      <td>solid</td>\n",
       "      <td>solid</td>\n",
       "      <td>short sleeves</td>\n",
       "      <td>NaN</td>\n",
       "      <td>NaN</td>\n",
       "      <td>NaN</td>\n",
       "      <td>NaN</td>\n",
       "      <td>NaN</td>\n",
       "    </tr>\n",
       "    <tr>\n",
       "      <th>4</th>\n",
       "      <td>4</td>\n",
       "      <td>Men Tshirts</td>\n",
       "      <td>5</td>\n",
       "      <td>multicolor</td>\n",
       "      <td>polo</td>\n",
       "      <td>solid</td>\n",
       "      <td>solid</td>\n",
       "      <td>short sleeves</td>\n",
       "      <td>NaN</td>\n",
       "      <td>NaN</td>\n",
       "      <td>NaN</td>\n",
       "      <td>NaN</td>\n",
       "      <td>NaN</td>\n",
       "    </tr>\n",
       "  </tbody>\n",
       "</table>\n",
       "</div>"
      ],
      "text/plain": [
       "   id     Category  len      attr_1 attr_2   attr_3   attr_4         attr_5  \\\n",
       "0   0  Men Tshirts    5     default  round  printed  default  short sleeves   \n",
       "1   1  Men Tshirts    5  multicolor   polo    solid    solid  short sleeves   \n",
       "2   2  Men Tshirts    5     default   polo    solid    solid  short sleeves   \n",
       "3   3  Men Tshirts    5  multicolor   polo    solid    solid  short sleeves   \n",
       "4   4  Men Tshirts    5  multicolor   polo    solid    solid  short sleeves   \n",
       "\n",
       "  attr_6 attr_7 attr_8 attr_9 attr_10  \n",
       "0    NaN    NaN    NaN    NaN     NaN  \n",
       "1    NaN    NaN    NaN    NaN     NaN  \n",
       "2    NaN    NaN    NaN    NaN     NaN  \n",
       "3    NaN    NaN    NaN    NaN     NaN  \n",
       "4    NaN    NaN    NaN    NaN     NaN  "
      ]
     },
     "execution_count": 8,
     "metadata": {},
     "output_type": "execute_result"
    }
   ],
   "source": [
    "df.head()"
   ]
  },
  {
   "cell_type": "code",
   "execution_count": null,
   "id": "bae9f62e-3667-4a43-b0bc-abda080af8a1",
   "metadata": {},
   "outputs": [],
   "source": []
  },
  {
   "cell_type": "code",
   "execution_count": 7,
   "id": "dffdbe73-ff69-41ad-a94c-65132016b322",
   "metadata": {
    "execution": {
     "iopub.execute_input": "2024-10-14T07:36:07.043040Z",
     "iopub.status.busy": "2024-10-14T07:36:07.042598Z",
     "iopub.status.idle": "2024-10-14T07:36:07.045889Z",
     "shell.execute_reply": "2024-10-14T07:36:07.045132Z",
     "shell.execute_reply.started": "2024-10-14T07:36:07.043022Z"
    }
   },
   "outputs": [],
   "source": [
    "import shutil"
   ]
  },
  {
   "cell_type": "code",
   "execution_count": 23,
   "id": "9121ff5f-c188-4923-a9c3-fb8cea10d06f",
   "metadata": {
    "execution": {
     "iopub.execute_input": "2024-10-14T07:48:51.706195Z",
     "iopub.status.busy": "2024-10-14T07:48:51.705975Z",
     "iopub.status.idle": "2024-10-14T07:53:29.014808Z",
     "shell.execute_reply": "2024-10-14T07:53:29.014224Z",
     "shell.execute_reply.started": "2024-10-14T07:48:51.706179Z"
    }
   },
   "outputs": [],
   "source": [
    "for name in uniNames:\n",
    "    # print(name)\n",
    "    df_cat = df[df[\"Category\"]==name]\n",
    "    try:\n",
    "        os.mkdir(name)\n",
    "    except:\n",
    "        print(\"exists\")\n",
    "    for file_id in df_cat[\"id\"]:\n",
    "        Fid =(\"0\"*(6-len(str(file_id)))) + str(file_id)\n",
    "        shutil.copy(\"/notebooks/visual-taxonomy/train_images/\"+str(Fid)+\".jpg\",\"./\"+name+\"/\"+str(Fid)+\".jpg\")\n",
    "    #     break\n",
    "    # break"
   ]
  },
  {
   "cell_type": "code",
   "execution_count": null,
   "id": "e6a1febf-7caf-4f8a-b341-80c8436ab368",
   "metadata": {},
   "outputs": [],
   "source": []
  }
 ],
 "metadata": {
  "kernelspec": {
   "display_name": "Python 3 (ipykernel)",
   "language": "python",
   "name": "python3"
  },
  "language_info": {
   "codemirror_mode": {
    "name": "ipython",
    "version": 3
   },
   "file_extension": ".py",
   "mimetype": "text/x-python",
   "name": "python",
   "nbconvert_exporter": "python",
   "pygments_lexer": "ipython3",
   "version": "3.11.7"
  }
 },
 "nbformat": 4,
 "nbformat_minor": 5
}
