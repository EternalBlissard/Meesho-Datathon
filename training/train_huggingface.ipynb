{
 "cells": [
  {
   "cell_type": "code",
   "execution_count": 1,
   "id": "08046f22-db0f-45bb-8aa5-18309a23a1e1",
   "metadata": {
    "execution": {
     "iopub.execute_input": "2024-10-14T11:28:23.940808Z",
     "iopub.status.busy": "2024-10-14T11:28:23.940248Z",
     "iopub.status.idle": "2024-10-14T11:28:26.614016Z",
     "shell.execute_reply": "2024-10-14T11:28:26.613452Z",
     "shell.execute_reply.started": "2024-10-14T11:28:23.940788Z"
    }
   },
   "outputs": [],
   "source": [
    "import os\n",
    "os.environ['CUDA_VISIBLE_DEVICES'] = '1'\n",
    "import torch\n",
    "import pandas as pd\n",
    "from PIL import ImageDraw, ImageFont, Image\n",
    "import numpy as np\n",
    "import matplotlib.pyplot as plt\n",
    "from torch.utils.data import Dataset, DataLoader\n",
    "from torchvision import transforms, utils\n",
    "import torch\n",
    "import torch.nn as nn\n",
    "from transformers import ViTModel\n",
    "from torchinfo import summary  # \n",
    "# Ignore warnings\n",
    "import warnings\n",
    "warnings.filterwarnings(\"ignore\")\n",
    "import random\n",
    "import time"
   ]
  },
  {
   "cell_type": "code",
   "execution_count": 2,
   "id": "3438730c-888d-4fd7-b57e-8ff63ab4f94a",
   "metadata": {
    "execution": {
     "iopub.execute_input": "2024-10-14T11:28:26.616389Z",
     "iopub.status.busy": "2024-10-14T11:28:26.616065Z",
     "iopub.status.idle": "2024-10-14T11:28:26.620522Z",
     "shell.execute_reply": "2024-10-14T11:28:26.619968Z",
     "shell.execute_reply.started": "2024-10-14T11:28:26.616371Z"
    }
   },
   "outputs": [],
   "source": [
    "DEVICE=\"cuda:0\"\n",
    "def setAllSeeds(seed):\n",
    "  os.environ['MY_GLOBAL_SEED'] = str(seed)\n",
    "  random.seed(seed)\n",
    "  np.random.seed(seed)\n",
    "  torch.manual_seed(seed)\n",
    "  # torch.cuda.manual_seed_all(seed)\n",
    "setAllSeeds(42)"
   ]
  },
  {
   "cell_type": "code",
   "execution_count": 3,
   "id": "78a86c36-a933-42bf-92c1-bd6cfbf0975b",
   "metadata": {
    "execution": {
     "iopub.execute_input": "2024-10-14T11:28:26.625620Z",
     "iopub.status.busy": "2024-10-14T11:28:26.625171Z",
     "iopub.status.idle": "2024-10-14T11:28:26.717777Z",
     "shell.execute_reply": "2024-10-14T11:28:26.717238Z",
     "shell.execute_reply.started": "2024-10-14T11:28:26.625599Z"
    }
   },
   "outputs": [
    {
     "name": "stdout",
     "output_type": "stream",
     "text": [
      "['Men Tshirts' 'Sarees' 'Kurtis' 'Women Tshirts' 'Women Tops & Tunics']\n"
     ]
    }
   ],
   "source": [
    "df = pd.read_csv(\"train.csv\")\n",
    "categories=df[\"Category\"].unique()\n",
    "print(categories)\n",
    "category=categories[1]\n",
    "df = df[df[\"Category\"]==category]"
   ]
  },
  {
   "cell_type": "code",
   "execution_count": 4,
   "id": "218fb75d-1b90-416b-9a41-288de39def1b",
   "metadata": {
    "execution": {
     "iopub.execute_input": "2024-10-14T11:28:26.719372Z",
     "iopub.status.busy": "2024-10-14T11:28:26.719005Z",
     "iopub.status.idle": "2024-10-14T11:28:26.725099Z",
     "shell.execute_reply": "2024-10-14T11:28:26.724553Z",
     "shell.execute_reply.started": "2024-10-14T11:28:26.719356Z"
    }
   },
   "outputs": [
    {
     "name": "stdout",
     "output_type": "stream",
     "text": [
      "['same as saree' 'solid' 'same as border' 'default']\n",
      "['woven design' 'zari' 'no border' 'solid' 'default' 'temple border']\n",
      "['small border' 'big border' 'no border']\n",
      "['multicolor' 'cream' 'white' 'default' 'navy blue' 'yellow' 'green'\n",
      " 'pink']\n",
      "['party' 'traditional' 'daily' 'wedding']\n",
      "['jacquard' 'default' 'tassels and latkans']\n",
      "['woven design' 'same as saree' 'default' 'zari woven']\n",
      "['zari woven' 'woven design' 'default' 'solid' 'printed']\n",
      "['applique' 'elephant' 'floral' 'ethnic motif' 'peacock' 'default' 'solid'\n",
      " 'checked' 'botanical']\n",
      "['no' 'yes']\n"
     ]
    }
   ],
   "source": [
    "delCol = []\n",
    "idxCol = []\n",
    "trackNum = []\n",
    "for i in range(1,11):\n",
    "    uniName = df[\"attr_\"+str(i)].dropna().unique()\n",
    "    # print(len(uniName))\n",
    "    print(uniName)\n",
    "    if(len(uniName)==1):\n",
    "        delCol.append(\"attr_\"+str(i))\n",
    "    else:\n",
    "        idxCol.append(\"attr_\"+str(i))\n",
    "        trackNum.append(len(uniName))"
   ]
  },
  {
   "cell_type": "code",
   "execution_count": null,
   "id": "78ab691e",
   "metadata": {},
   "outputs": [],
   "source": []
  },
  {
   "cell_type": "code",
   "execution_count": 5,
   "id": "5d06448d",
   "metadata": {},
   "outputs": [],
   "source": [
    "# l=df.columns[3:14].tolist()\n",
    "# print(l)"
   ]
  },
  {
   "cell_type": "code",
   "execution_count": 6,
   "id": "52d305da-99e2-424a-b774-b1ffdbd56fcf",
   "metadata": {
    "execution": {
     "iopub.execute_input": "2024-10-14T11:28:26.732549Z",
     "iopub.status.busy": "2024-10-14T11:28:26.732338Z",
     "iopub.status.idle": "2024-10-14T11:28:26.736656Z",
     "shell.execute_reply": "2024-10-14T11:28:26.736114Z",
     "shell.execute_reply.started": "2024-10-14T11:28:26.732533Z"
    }
   },
   "outputs": [
    {
     "data": {
      "text/plain": [
       "(18346, 13)"
      ]
     },
     "execution_count": 6,
     "metadata": {},
     "output_type": "execute_result"
    }
   ],
   "source": [
    "df = df.drop(delCol,axis=1)\n",
    "df.shape"
   ]
  },
  {
   "cell_type": "code",
   "execution_count": 7,
   "id": "02ce1ccc",
   "metadata": {},
   "outputs": [
    {
     "data": {
      "text/plain": [
       "id              0\n",
       "Category        0\n",
       "len             0\n",
       "attr_1      10461\n",
       "attr_2        667\n",
       "attr_3       2485\n",
       "attr_4        450\n",
       "attr_5        697\n",
       "attr_6      13336\n",
       "attr_7       9450\n",
       "attr_8       1881\n",
       "attr_9       4043\n",
       "attr_10       528\n",
       "dtype: int64"
      ]
     },
     "execution_count": 7,
     "metadata": {},
     "output_type": "execute_result"
    }
   ],
   "source": [
    "df.isna().sum()"
   ]
  },
  {
   "cell_type": "code",
   "execution_count": 8,
   "id": "df2da111",
   "metadata": {},
   "outputs": [
    {
     "name": "stdout",
     "output_type": "stream",
     "text": [
      "{0: {0: 'same as saree', 1: 'solid', 2: 'same as border', 3: 'default'}, 1: {0: 'woven design', 1: 'zari', 2: 'no border', 3: 'solid', 4: 'default', 5: 'temple border'}, 2: {0: 'small border', 1: 'big border', 2: 'no border'}, 3: {0: 'multicolor', 1: 'cream', 2: 'white', 3: 'default', 4: 'navy blue', 5: 'yellow', 6: 'green', 7: 'pink'}, 4: {0: 'party', 1: 'traditional', 2: 'daily', 3: 'wedding'}, 5: {0: 'jacquard', 1: 'default', 2: 'tassels and latkans'}, 6: {0: 'woven design', 1: 'same as saree', 2: 'default', 3: 'zari woven'}, 7: {0: 'zari woven', 1: 'woven design', 2: 'default', 3: 'solid', 4: 'printed'}, 8: {0: 'applique', 1: 'elephant', 2: 'floral', 3: 'ethnic motif', 4: 'peacock', 5: 'default', 6: 'solid', 7: 'checked', 8: 'botanical'}, 9: {0: 'no', 1: 'yes'}}\n",
      "{0: {'same as saree': 0, 'solid': 1, 'same as border': 2, 'default': 3}, 1: {'woven design': 0, 'zari': 1, 'no border': 2, 'solid': 3, 'default': 4, 'temple border': 5}, 2: {'small border': 0, 'big border': 1, 'no border': 2}, 3: {'multicolor': 0, 'cream': 1, 'white': 2, 'default': 3, 'navy blue': 4, 'yellow': 5, 'green': 6, 'pink': 7}, 4: {'party': 0, 'traditional': 1, 'daily': 2, 'wedding': 3}, 5: {'jacquard': 0, 'default': 1, 'tassels and latkans': 2}, 6: {'woven design': 0, 'same as saree': 1, 'default': 2, 'zari woven': 3}, 7: {'zari woven': 0, 'woven design': 1, 'default': 2, 'solid': 3, 'printed': 4}, 8: {'applique': 0, 'elephant': 1, 'floral': 2, 'ethnic motif': 3, 'peacock': 4, 'default': 5, 'solid': 6, 'checked': 7, 'botanical': 8}, 9: {'no': 0, 'yes': 1}}\n",
      "{0: 'attr_1', 1: 'attr_2', 2: 'attr_3', 3: 'attr_4', 4: 'attr_5', 5: 'attr_6', 6: 'attr_7', 7: 'attr_8', 8: 'attr_9', 9: 'attr_10'}\n"
     ]
    }
   ],
   "source": [
    "id2label={}\n",
    "label2id={}\n",
    "attrs={}\n",
    "total_attr=len(df.columns)\n",
    "for i in range(3,total_attr):\n",
    "    labels=df[df.columns[i]].dropna().unique()\n",
    "    # print(df.columns[i],labels)\n",
    "    id2label[i-3]={k:labels[k] for k in range(len(labels))}\n",
    "    label2id[i-3]={labels[k]:k for k in range(len(labels))}\n",
    "    attrs[i-3]=df.columns[i]\n",
    "print(id2label)\n",
    "print(label2id)\n",
    "print(attrs)"
   ]
  },
  {
   "cell_type": "code",
   "execution_count": null,
   "id": "e029f492",
   "metadata": {},
   "outputs": [],
   "source": []
  },
  {
   "cell_type": "code",
   "execution_count": 9,
   "id": "f394a515",
   "metadata": {},
   "outputs": [
    {
     "data": {
      "text/html": [
       "<div>\n",
       "<style scoped>\n",
       "    .dataframe tbody tr th:only-of-type {\n",
       "        vertical-align: middle;\n",
       "    }\n",
       "\n",
       "    .dataframe tbody tr th {\n",
       "        vertical-align: top;\n",
       "    }\n",
       "\n",
       "    .dataframe thead th {\n",
       "        text-align: right;\n",
       "    }\n",
       "</style>\n",
       "<table border=\"1\" class=\"dataframe\">\n",
       "  <thead>\n",
       "    <tr style=\"text-align: right;\">\n",
       "      <th></th>\n",
       "      <th>id</th>\n",
       "      <th>Category</th>\n",
       "      <th>len</th>\n",
       "      <th>attr_1</th>\n",
       "      <th>attr_2</th>\n",
       "      <th>attr_3</th>\n",
       "      <th>attr_4</th>\n",
       "      <th>attr_5</th>\n",
       "      <th>attr_6</th>\n",
       "      <th>attr_7</th>\n",
       "      <th>attr_8</th>\n",
       "      <th>attr_9</th>\n",
       "      <th>attr_10</th>\n",
       "    </tr>\n",
       "  </thead>\n",
       "  <tbody>\n",
       "    <tr>\n",
       "      <th>7267</th>\n",
       "      <td>7432</td>\n",
       "      <td>Sarees</td>\n",
       "      <td>10</td>\n",
       "      <td>0</td>\n",
       "      <td>0</td>\n",
       "      <td>0</td>\n",
       "      <td>0</td>\n",
       "      <td>0</td>\n",
       "      <td>0</td>\n",
       "      <td>0</td>\n",
       "      <td>0</td>\n",
       "      <td>0</td>\n",
       "      <td>0</td>\n",
       "    </tr>\n",
       "    <tr>\n",
       "      <th>7268</th>\n",
       "      <td>7433</td>\n",
       "      <td>Sarees</td>\n",
       "      <td>10</td>\n",
       "      <td>-100</td>\n",
       "      <td>1</td>\n",
       "      <td>0</td>\n",
       "      <td>1</td>\n",
       "      <td>1</td>\n",
       "      <td>-100</td>\n",
       "      <td>-100</td>\n",
       "      <td>0</td>\n",
       "      <td>1</td>\n",
       "      <td>0</td>\n",
       "    </tr>\n",
       "    <tr>\n",
       "      <th>7269</th>\n",
       "      <td>7434</td>\n",
       "      <td>Sarees</td>\n",
       "      <td>10</td>\n",
       "      <td>-100</td>\n",
       "      <td>1</td>\n",
       "      <td>0</td>\n",
       "      <td>2</td>\n",
       "      <td>0</td>\n",
       "      <td>-100</td>\n",
       "      <td>-100</td>\n",
       "      <td>0</td>\n",
       "      <td>2</td>\n",
       "      <td>0</td>\n",
       "    </tr>\n",
       "    <tr>\n",
       "      <th>7270</th>\n",
       "      <td>7435</td>\n",
       "      <td>Sarees</td>\n",
       "      <td>10</td>\n",
       "      <td>0</td>\n",
       "      <td>0</td>\n",
       "      <td>1</td>\n",
       "      <td>3</td>\n",
       "      <td>1</td>\n",
       "      <td>-100</td>\n",
       "      <td>1</td>\n",
       "      <td>0</td>\n",
       "      <td>3</td>\n",
       "      <td>0</td>\n",
       "    </tr>\n",
       "    <tr>\n",
       "      <th>7271</th>\n",
       "      <td>7436</td>\n",
       "      <td>Sarees</td>\n",
       "      <td>10</td>\n",
       "      <td>1</td>\n",
       "      <td>2</td>\n",
       "      <td>-100</td>\n",
       "      <td>-100</td>\n",
       "      <td>2</td>\n",
       "      <td>-100</td>\n",
       "      <td>-100</td>\n",
       "      <td>-100</td>\n",
       "      <td>-100</td>\n",
       "      <td>1</td>\n",
       "    </tr>\n",
       "  </tbody>\n",
       "</table>\n",
       "</div>"
      ],
      "text/plain": [
       "        id Category  len  attr_1  attr_2  attr_3  attr_4  attr_5  attr_6  \\\n",
       "7267  7432   Sarees   10       0       0       0       0       0       0   \n",
       "7268  7433   Sarees   10    -100       1       0       1       1    -100   \n",
       "7269  7434   Sarees   10    -100       1       0       2       0    -100   \n",
       "7270  7435   Sarees   10       0       0       1       3       1    -100   \n",
       "7271  7436   Sarees   10       1       2    -100    -100       2    -100   \n",
       "\n",
       "      attr_7  attr_8  attr_9  attr_10  \n",
       "7267       0       0       0        0  \n",
       "7268    -100       0       1        0  \n",
       "7269    -100       0       2        0  \n",
       "7270       1       0       3        0  \n",
       "7271    -100    -100    -100        1  "
      ]
     },
     "execution_count": 9,
     "metadata": {},
     "output_type": "execute_result"
    }
   ],
   "source": [
    "def categorize(example):\n",
    "    for i in attrs:\n",
    "        # print(example[attrs[i]],type(example[attrs[i]]),pd.isna(example[attrs[i]]))\n",
    "        if not pd.isna(example[attrs[i]]):\n",
    "            example[attrs[i]]=label2id[i][example[attrs[i]]]\n",
    "        else:\n",
    "            example[attrs[i]]=-100\n",
    "    return example\n",
    "df=df.apply(categorize,axis=1)\n",
    "df.head()"
   ]
  },
  {
   "cell_type": "code",
   "execution_count": 10,
   "id": "f1df7b6c",
   "metadata": {},
   "outputs": [
    {
     "data": {
      "text/plain": [
       "id          0\n",
       "Category    0\n",
       "len         0\n",
       "attr_1      0\n",
       "attr_2      0\n",
       "attr_3      0\n",
       "attr_4      0\n",
       "attr_5      0\n",
       "attr_6      0\n",
       "attr_7      0\n",
       "attr_8      0\n",
       "attr_9      0\n",
       "attr_10     0\n",
       "dtype: int64"
      ]
     },
     "execution_count": 10,
     "metadata": {},
     "output_type": "execute_result"
    }
   ],
   "source": [
    "df.isna().sum()"
   ]
  },
  {
   "cell_type": "code",
   "execution_count": 11,
   "id": "92d71000",
   "metadata": {},
   "outputs": [
    {
     "name": "stderr",
     "output_type": "stream",
     "text": [
      "Fast image processor class <class 'transformers.models.vit.image_processing_vit_fast.ViTImageProcessorFast'> is available for this model. Using slow image processor class. To use the fast image processor class set `use_fast=True`.\n"
     ]
    }
   ],
   "source": [
    "from transformers import AutoImageProcessor\n",
    "model_name = 'google/vit-base-patch16-224'\n",
    "# model_name=\"google/vit-base-patch32-384\"\n",
    "processor = AutoImageProcessor.from_pretrained(model_name)"
   ]
  },
  {
   "cell_type": "code",
   "execution_count": 12,
   "id": "332990dc",
   "metadata": {},
   "outputs": [],
   "source": [
    "from sklearn.model_selection import train_test_split\n",
    "\n",
    "train_df, val_df = train_test_split(df, test_size=0.3)\n",
    "val_df,test_df=train_test_split(val_df,test_size=0.33)\n",
    "# train_df=df\n",
    "# val_df=train_df\n",
    "# test_df=train_df"
   ]
  },
  {
   "cell_type": "code",
   "execution_count": 13,
   "id": "933021b2",
   "metadata": {},
   "outputs": [],
   "source": [
    "# for i in l:\n",
    "#     print(train_df[i].value_counts())"
   ]
  },
  {
   "cell_type": "code",
   "execution_count": 14,
   "id": "80e10ab0",
   "metadata": {},
   "outputs": [],
   "source": [
    "# for i in l:\n",
    "#     print(i)\n",
    "#     for j in set(train_df[i].unique()):\n",
    "#         x=train_df[i][train_df[i]==j]\n",
    "#         if x.count()<300 and j!=-100:\n",
    "#             y=train_df[train_df[i]==j]\n",
    "#             y.iloc[:,3:]=-100\n",
    "#             y[i]=j\n",
    "#             print(y)\n",
    "#             train_df=pd.concat([train_df,y,y]).reset_index(drop=True)\n",
    "# for i in l:\n",
    "#     print(train_df[i].value_counts())"
   ]
  },
  {
   "cell_type": "code",
   "execution_count": 15,
   "id": "36416a7e",
   "metadata": {},
   "outputs": [
    {
     "data": {
      "text/html": [
       "<div>\n",
       "<style scoped>\n",
       "    .dataframe tbody tr th:only-of-type {\n",
       "        vertical-align: middle;\n",
       "    }\n",
       "\n",
       "    .dataframe tbody tr th {\n",
       "        vertical-align: top;\n",
       "    }\n",
       "\n",
       "    .dataframe thead th {\n",
       "        text-align: right;\n",
       "    }\n",
       "</style>\n",
       "<table border=\"1\" class=\"dataframe\">\n",
       "  <thead>\n",
       "    <tr style=\"text-align: right;\">\n",
       "      <th></th>\n",
       "      <th>id</th>\n",
       "      <th>Category</th>\n",
       "      <th>len</th>\n",
       "      <th>attr_1</th>\n",
       "      <th>attr_2</th>\n",
       "      <th>attr_3</th>\n",
       "      <th>attr_4</th>\n",
       "      <th>attr_5</th>\n",
       "      <th>attr_6</th>\n",
       "      <th>attr_7</th>\n",
       "      <th>attr_8</th>\n",
       "      <th>attr_9</th>\n",
       "      <th>attr_10</th>\n",
       "    </tr>\n",
       "  </thead>\n",
       "  <tbody>\n",
       "    <tr>\n",
       "      <th>14810</th>\n",
       "      <td>14975</td>\n",
       "      <td>Sarees</td>\n",
       "      <td>10</td>\n",
       "      <td>-100</td>\n",
       "      <td>1</td>\n",
       "      <td>0</td>\n",
       "      <td>1</td>\n",
       "      <td>0</td>\n",
       "      <td>-100</td>\n",
       "      <td>-100</td>\n",
       "      <td>0</td>\n",
       "      <td>2</td>\n",
       "      <td>1</td>\n",
       "    </tr>\n",
       "    <tr>\n",
       "      <th>14161</th>\n",
       "      <td>14326</td>\n",
       "      <td>Sarees</td>\n",
       "      <td>10</td>\n",
       "      <td>0</td>\n",
       "      <td>0</td>\n",
       "      <td>0</td>\n",
       "      <td>0</td>\n",
       "      <td>0</td>\n",
       "      <td>0</td>\n",
       "      <td>0</td>\n",
       "      <td>0</td>\n",
       "      <td>0</td>\n",
       "      <td>0</td>\n",
       "    </tr>\n",
       "    <tr>\n",
       "      <th>7941</th>\n",
       "      <td>8106</td>\n",
       "      <td>Sarees</td>\n",
       "      <td>10</td>\n",
       "      <td>-100</td>\n",
       "      <td>1</td>\n",
       "      <td>0</td>\n",
       "      <td>1</td>\n",
       "      <td>1</td>\n",
       "      <td>1</td>\n",
       "      <td>-100</td>\n",
       "      <td>0</td>\n",
       "      <td>2</td>\n",
       "      <td>0</td>\n",
       "    </tr>\n",
       "    <tr>\n",
       "      <th>13948</th>\n",
       "      <td>14113</td>\n",
       "      <td>Sarees</td>\n",
       "      <td>10</td>\n",
       "      <td>0</td>\n",
       "      <td>1</td>\n",
       "      <td>1</td>\n",
       "      <td>3</td>\n",
       "      <td>0</td>\n",
       "      <td>-100</td>\n",
       "      <td>3</td>\n",
       "      <td>3</td>\n",
       "      <td>6</td>\n",
       "      <td>0</td>\n",
       "    </tr>\n",
       "    <tr>\n",
       "      <th>25169</th>\n",
       "      <td>25334</td>\n",
       "      <td>Sarees</td>\n",
       "      <td>10</td>\n",
       "      <td>-100</td>\n",
       "      <td>1</td>\n",
       "      <td>-100</td>\n",
       "      <td>-100</td>\n",
       "      <td>-100</td>\n",
       "      <td>-100</td>\n",
       "      <td>-100</td>\n",
       "      <td>-100</td>\n",
       "      <td>5</td>\n",
       "      <td>-100</td>\n",
       "    </tr>\n",
       "  </tbody>\n",
       "</table>\n",
       "</div>"
      ],
      "text/plain": [
       "          id Category  len  attr_1  attr_2  attr_3  attr_4  attr_5  attr_6  \\\n",
       "14810  14975   Sarees   10    -100       1       0       1       0    -100   \n",
       "14161  14326   Sarees   10       0       0       0       0       0       0   \n",
       "7941    8106   Sarees   10    -100       1       0       1       1       1   \n",
       "13948  14113   Sarees   10       0       1       1       3       0    -100   \n",
       "25169  25334   Sarees   10    -100       1    -100    -100    -100    -100   \n",
       "\n",
       "       attr_7  attr_8  attr_9  attr_10  \n",
       "14810    -100       0       2        1  \n",
       "14161       0       0       0        0  \n",
       "7941     -100       0       2        0  \n",
       "13948       3       3       6        0  \n",
       "25169    -100    -100       5     -100  "
      ]
     },
     "execution_count": 15,
     "metadata": {},
     "output_type": "execute_result"
    }
   ],
   "source": [
    "train_df.head()"
   ]
  },
  {
   "cell_type": "code",
   "execution_count": 16,
   "id": "1113befc-d9c0-427e-98c8-467977f0f7ef",
   "metadata": {
    "execution": {
     "iopub.execute_input": "2024-10-14T11:28:26.751798Z",
     "iopub.status.busy": "2024-10-14T11:28:26.751660Z",
     "iopub.status.idle": "2024-10-14T11:28:26.756144Z",
     "shell.execute_reply": "2024-10-14T11:28:26.755669Z",
     "shell.execute_reply.started": "2024-10-14T11:28:26.751778Z"
    }
   },
   "outputs": [],
   "source": [
    "class CustomFashionManager(Dataset):\n",
    "    def __init__(self,csv_file, root_dir=\"./\",transforms =None):\n",
    "        self.fashionItems = csv_file\n",
    "        self.root_dir = root_dir\n",
    "        self.transforms = transforms\n",
    "    \n",
    "    def __len__(self):\n",
    "        return len(self.fashionItems)\n",
    "\n",
    "    def __getitem__(self, idx):\n",
    "        if torch.is_tensor(idx):\n",
    "            idx = idx.tolist()\n",
    "\n",
    "        img_name = os.path.join(self.root_dir,f\"{self.fashionItems.iloc[idx, 0]:06d}\"+'.jpg')\n",
    "        image = Image.open(img_name)\n",
    "        attributes = self.fashionItems.iloc[idx, 3:]\n",
    "        attributes = np.array(attributes)\n",
    "        attributes = attributes.astype('float')\n",
    "\n",
    "        inputs=processor(image, return_tensors='pt')\n",
    "        inputs['labels']=torch.tensor(attributes, dtype=torch.long)\n",
    "        return inputs\n",
    "\n",
    "        # if self.transforms:\n",
    "        #     sample = self.transforms(sample)\n",
    "\n",
    "        # return sample\n"
   ]
  },
  {
   "cell_type": "code",
   "execution_count": 17,
   "id": "798bdc15-2101-4eb7-a52f-6748fd70d5d9",
   "metadata": {
    "execution": {
     "iopub.execute_input": "2024-10-14T11:28:26.756919Z",
     "iopub.status.busy": "2024-10-14T11:28:26.756780Z",
     "iopub.status.idle": "2024-10-14T11:28:27.051779Z",
     "shell.execute_reply": "2024-10-14T11:28:27.051275Z",
     "shell.execute_reply.started": "2024-10-14T11:28:26.756906Z"
    }
   },
   "outputs": [
    {
     "data": {
      "text/plain": [
       "<Figure size 640x480 with 0 Axes>"
      ]
     },
     "metadata": {},
     "output_type": "display_data"
    }
   ],
   "source": [
    "train_fashion_data = CustomFashionManager(csv_file=train_df,\n",
    "                                    root_dir='train_images')\n",
    "val_fashion_data = CustomFashionManager(csv_file=val_df,\n",
    "                                    root_dir='train_images')\n",
    "test_fashion_data = CustomFashionManager(csv_file=test_df,root_dir='train_images')\n",
    "\n",
    "fig = plt.figure()\n",
    "        "
   ]
  },
  {
   "cell_type": "code",
   "execution_count": 18,
   "id": "06d3d845-6704-4cc0-acdd-a12ee3f1f8c5",
   "metadata": {
    "execution": {
     "iopub.execute_input": "2024-10-14T11:28:27.578464Z",
     "iopub.status.busy": "2024-10-14T11:28:27.578296Z",
     "iopub.status.idle": "2024-10-14T11:28:28.848764Z",
     "shell.execute_reply": "2024-10-14T11:28:28.848059Z",
     "shell.execute_reply.started": "2024-10-14T11:28:27.578419Z"
    }
   },
   "outputs": [],
   "source": [
    "import sys\n",
    "from typing import List\n",
    "from transformers import ViTConfig,ViTPreTrainedModel,DeiTConfig,DeiTPreTrainedModel,DeiTModel\n",
    "\n",
    "\n",
    "class CustomConfig(ViTConfig):\n",
    "    def __init__(self,num_classes_per_label:List[int]=[1],**kwargs):\n",
    "        super().__init__(**kwargs)\n",
    "        self.num_classes_per_label = num_classes_per_label\n",
    "        self.hidden_size_2=384\n",
    "\n",
    "class MultiLabelMultiClassViT(ViTPreTrainedModel):\n",
    "    config_class=CustomConfig\n",
    "    def __init__(self, config: CustomConfig) -> None:\n",
    "        super().__init__(config)\n",
    "\n",
    "        self.vit = ViTModel(config, add_pooling_layer=False)\n",
    "        self.classifiers = nn.ModuleList([\n",
    "            # nn.Sequential(\n",
    "            #     nn.Dropout(0.2),\n",
    "            #     nn.Linear(config.hidden_size, config.hidden_size_2),\n",
    "            #     nn.ReLU(),\n",
    "            #     nn.Linear(config.hidden_size_2, num_classes)\n",
    "            # )\n",
    "            nn.Sequential(\n",
    "            nn.Dropout(0.2),\n",
    "            nn.Linear(config.hidden_size, num_classes)) \n",
    "            # nn.Linear(config.hidden_size, num_classes)\n",
    "            for num_classes in config.num_classes_per_label\n",
    "        ])\n",
    "        # Initialize weights and apply final processing\n",
    "        self.post_init()\n",
    "\n",
    "\n",
    "    def forward(self, pixel_values,labels=None):\n",
    "        outputs = self.vit(pixel_values).last_hidden_state[:, 0, :]  # CLS token representation\n",
    "        logits = [classifier(outputs) for classifier in self.classifiers]\n",
    "        if labels is not None:\n",
    "            loss=0\n",
    "            for i in range(len(logits)):\n",
    "                target=labels[:,i]\n",
    "                loss += torch.nn.functional.cross_entropy(logits[i], target)\n",
    "            return {\"loss\": loss, \"logits\": logits}\n",
    "        return {\"logits\": logits}\n",
    "\n",
    "# Example usage\n",
    "num_labels = len(trackNum)  # For example, 5 different labels\n",
    "\n"
   ]
  },
  {
   "cell_type": "code",
   "execution_count": 19,
   "id": "2293d4c9",
   "metadata": {},
   "outputs": [
    {
     "data": {
      "text/plain": [
       "[4, 6, 3, 8, 4, 3, 4, 5, 9, 2]"
      ]
     },
     "execution_count": 19,
     "metadata": {},
     "output_type": "execute_result"
    }
   ],
   "source": [
    "trackNum"
   ]
  },
  {
   "cell_type": "code",
   "execution_count": null,
   "id": "8e4a2a24",
   "metadata": {},
   "outputs": [],
   "source": []
  },
  {
   "cell_type": "code",
   "execution_count": 20,
   "id": "9be5327a",
   "metadata": {},
   "outputs": [
    {
     "name": "stderr",
     "output_type": "stream",
     "text": [
      "Some weights of MultiLabelMultiClassViT were not initialized from the model checkpoint at google/vit-base-patch16-224 and are newly initialized: ['classifiers.0.bias', 'classifiers.0.weight', 'classifiers.1.bias', 'classifiers.1.weight', 'classifiers.2.bias', 'classifiers.2.weight', 'classifiers.3.bias', 'classifiers.3.weight', 'classifiers.4.bias', 'classifiers.4.weight', 'classifiers.5.bias', 'classifiers.5.weight', 'classifiers.6.bias', 'classifiers.6.weight', 'classifiers.7.bias', 'classifiers.7.weight', 'classifiers.8.bias', 'classifiers.8.weight', 'classifiers.9.bias', 'classifiers.9.weight']\n",
      "You should probably TRAIN this model on a down-stream task to be able to use it for predictions and inference.\n",
      "Detected kernel version 5.4.0, which is below the recommended minimum of 5.5.0; this can cause the process to hang. It is recommended to upgrade the kernel to the minimum version or higher.\n"
     ]
    },
    {
     "name": "stdout",
     "output_type": "stream",
     "text": [
      "==============================================================================================================\n",
      "Layer (type:depth-idx)                                       Output Shape              Param #\n",
      "==============================================================================================================\n",
      "MultiLabelMultiClassViT                                      [32, 4]                   --\n",
      "├─ViTModel: 1-1                                              [32, 197, 768]            --\n",
      "│    └─ViTEmbeddings: 2-1                                    [32, 197, 768]            152,064\n",
      "│    │    └─ViTPatchEmbeddings: 3-1                          [32, 196, 768]            590,592\n",
      "│    │    └─Dropout: 3-2                                     [32, 197, 768]            --\n",
      "│    └─ViTEncoder: 2-2                                       [32, 197, 768]            --\n",
      "│    │    └─ModuleList: 3-3                                  --                        85,054,464\n",
      "│    └─LayerNorm: 2-3                                        [32, 197, 768]            1,536\n",
      "├─ModuleList: 1-2                                            --                        --\n",
      "│    └─Linear: 2-4                                           [32, 4]                   3,076\n",
      "│    └─Linear: 2-5                                           [32, 6]                   4,614\n",
      "│    └─Linear: 2-6                                           [32, 3]                   2,307\n",
      "│    └─Linear: 2-7                                           [32, 8]                   6,152\n",
      "│    └─Linear: 2-8                                           [32, 4]                   3,076\n",
      "│    └─Linear: 2-9                                           [32, 3]                   2,307\n",
      "│    └─Linear: 2-10                                          [32, 4]                   3,076\n",
      "│    └─Linear: 2-11                                          [32, 5]                   3,845\n",
      "│    └─Linear: 2-12                                          [32, 9]                   6,921\n",
      "│    └─Linear: 2-13                                          [32, 2]                   1,538\n",
      "==============================================================================================================\n",
      "Total params: 85,835,568\n",
      "Trainable params: 85,835,568\n",
      "Non-trainable params: 0\n",
      "Total mult-adds (G): 6.43\n",
      "==============================================================================================================\n",
      "Input size (MB): 19.27\n",
      "Forward/backward pass size (MB): 5189.87\n",
      "Params size (MB): 342.73\n",
      "Estimated Total Size (MB): 5551.88\n",
      "==============================================================================================================\n"
     ]
    }
   ],
   "source": [
    "from transformers import Trainer, TrainingArguments\n",
    "from sklearn.metrics import classification_report\n",
    "batch_size = 32\n",
    "def collate_fn(batch):\n",
    "    return {\n",
    "        'pixel_values': torch.cat([x['pixel_values'] for x in batch],dim=0),\n",
    "        'labels': torch.stack([x['labels'] for x in batch])\n",
    "    }\n",
    "\n",
    "def compute_metrics(pred):\n",
    "    # logits = pred.predictions\n",
    "    # labels=pred.label_ids\n",
    "    # probs = np.stack([np.argmax(logit,axis=1) for logit in logits])\n",
    "    # probs=probs.T\n",
    "    # truth_labels=[]\n",
    "    # preds=[]\n",
    "    # for i in range(len(probs)):\n",
    "    #     pred=[]\n",
    "    #     true=[]\n",
    "    #     for j in range(len(probs[i])):\n",
    "    #         pred.append(id2label[j][probs[i][j]])\n",
    "    #         if labels[i][j]==-100:\n",
    "    #             true.append(-100)\n",
    "    #         else:\n",
    "    #             true.append(id2label[j][labels[i][j]])\n",
    "    #     preds.append(pred)\n",
    "    #     truth_labels.append(true)\n",
    "\n",
    "    # preds=np.array(preds)\n",
    "    # truth_labels=np.array(truth_labels)\n",
    "\n",
    "    # labels=truth_labels.flatten()\n",
    "    # probs=preds.flatten()\n",
    "\n",
    "    # non_padding_indices = [i for i, label in enumerate(labels) if label != '-100']\n",
    "\n",
    "    # labels = [labels[i] for i in non_padding_indices]\n",
    "    # probs = [probs[i] for i in non_padding_indices]\n",
    "\n",
    "    # print(classification_report(labels,probs))\n",
    "    # report=classification_report(labels,probs,output_dict=True)\n",
    "    # return {'accuracy': report['accuracy'],\"macro avg f1\":report['macro avg']['f1-score']}\n",
    "\n",
    "    logits = pred.predictions\n",
    "    labels=pred.label_ids\n",
    "    probs = np.stack([np.argmax(logit,axis=1) for logit in logits])\n",
    "    probs=probs.T\n",
    "    labels=labels.flatten()\n",
    "    probs=probs.flatten()\n",
    "    non_padding_indices = [i for i, label in enumerate(labels) if label != -100]\n",
    "    labels = [labels[i] for i in non_padding_indices]\n",
    "    probs = [probs[i] for i in non_padding_indices]\n",
    "    print(classification_report(labels,probs))\n",
    "    report=classification_report(labels,probs,output_dict=True)\n",
    "    return {'accuracy': report['accuracy'],\"macro avg f1\":report['macro avg']['f1-score']}\n",
    "\n",
    "training_args = TrainingArguments(\n",
    "  output_dir=\"./vit4/\"+category,\n",
    "  per_device_train_batch_size=128,\n",
    "  per_device_eval_batch_size=128,\n",
    "  evaluation_strategy=\"epoch\",\n",
    "  save_strategy=\"epoch\",\n",
    "  logging_strategy=\"epoch\",\n",
    "  num_train_epochs=6,\n",
    "  fp16=True,\n",
    "  learning_rate=2e-4,\n",
    "  save_total_limit=1,\n",
    "  remove_unused_columns=False,\n",
    "  push_to_hub=False,\n",
    "  report_to='wandb',\n",
    "  load_best_model_at_end=True,\n",
    "  metric_for_best_model=\"macro avg f1\"\n",
    ")\n",
    "config=ViTConfig.from_pretrained(model_name)\n",
    "config=CustomConfig(num_classes_per_label=trackNum,**config.to_dict())\n",
    "model = MultiLabelMultiClassViT.from_pretrained(model_name,config=config)\n",
    "# for param in model.vit.parameters():\n",
    "#     param.requires_grad = False\n",
    "#print training params\n",
    "print(summary(model, input_size=(batch_size,3,224,224), device=DEVICE))\n",
    "trainer = Trainer(\n",
    "    model,\n",
    "    training_args,\n",
    "    train_dataset=train_fashion_data,\n",
    "    eval_dataset=val_fashion_data,\n",
    "    data_collator=collate_fn,\n",
    "    compute_metrics=compute_metrics,\n",
    "    tokenizer=processor,\n",
    ")"
   ]
  },
  {
   "cell_type": "code",
   "execution_count": null,
   "id": "dccb554e",
   "metadata": {},
   "outputs": [
    {
     "name": "stdout",
     "output_type": "stream",
     "text": [
      "[2024-10-30 22:26:06,322] [INFO] [real_accelerator.py:203:get_accelerator] Setting ds_accelerator to cuda (auto detect)\n"
     ]
    },
    {
     "name": "stderr",
     "output_type": "stream",
     "text": [
      "/home/aseems/anaconda3/envs/mhcp4/compiler_compat/ld: cannot find -laio: No such file or directory\n",
      "collect2: error: ld returned 1 exit status\n"
     ]
    },
    {
     "name": "stdout",
     "output_type": "stream",
     "text": [
      "\u001b[93m [WARNING] \u001b[0m async_io requires the dev libaio .so object and headers but these were not found.\n",
      "\u001b[93m [WARNING] \u001b[0m async_io: please install the libaio-dev package with apt\n",
      "\u001b[93m [WARNING] \u001b[0m If libaio is already installed (perhaps from source), try setting the CFLAGS and LDFLAGS environment variables to where it can be found.\n",
      "\u001b[93m [WARNING] \u001b[0m Please specify the CUTLASS repo directory as environment variable $CUTLASS_PATH\n",
      "\u001b[93m [WARNING] \u001b[0m sparse_attn requires a torch version >= 1.5 and < 2.0 but detected 2.4\n",
      "\u001b[93m [WARNING] \u001b[0m using untested triton version (3.0.0), only 1.0.0 is known to be compatible\n"
     ]
    },
    {
     "name": "stderr",
     "output_type": "stream",
     "text": [
      "\u001b[34m\u001b[1mwandb\u001b[0m: \u001b[33mWARNING\u001b[0m The `run_name` is currently set to the same value as `TrainingArguments.output_dir`. If this was not intended, please specify a different run name by setting the `TrainingArguments.run_name` parameter.\n",
      "Failed to detect the name of this notebook, you can set it manually with the WANDB_NOTEBOOK_NAME environment variable to enable code saving.\n",
      "\u001b[34m\u001b[1mwandb\u001b[0m: Currently logged in as: \u001b[33mkaran21258\u001b[0m (\u001b[33mkaran912\u001b[0m). Use \u001b[1m`wandb login --relogin`\u001b[0m to force relogin\n"
     ]
    },
    {
     "data": {
      "text/html": [
       "wandb version 0.18.5 is available!  To upgrade, please run:\n",
       " $ pip install wandb --upgrade"
      ],
      "text/plain": [
       "<IPython.core.display.HTML object>"
      ]
     },
     "metadata": {},
     "output_type": "display_data"
    },
    {
     "data": {
      "text/html": [
       "Tracking run with wandb version 0.17.5"
      ],
      "text/plain": [
       "<IPython.core.display.HTML object>"
      ]
     },
     "metadata": {},
     "output_type": "display_data"
    },
    {
     "data": {
      "text/html": [
       "Run data is saved locally in <code>/home/aseems/ml/mchl/wandb/run-20241030_222611-xbholosh</code>"
      ],
      "text/plain": [
       "<IPython.core.display.HTML object>"
      ]
     },
     "metadata": {},
     "output_type": "display_data"
    },
    {
     "data": {
      "text/html": [
       "Syncing run <strong><a href='https://wandb.ai/karan912/huggingface/runs/xbholosh' target=\"_blank\">./vit4/Sarees</a></strong> to <a href='https://wandb.ai/karan912/huggingface' target=\"_blank\">Weights & Biases</a> (<a href='https://wandb.me/run' target=\"_blank\">docs</a>)<br/>"
      ],
      "text/plain": [
       "<IPython.core.display.HTML object>"
      ]
     },
     "metadata": {},
     "output_type": "display_data"
    },
    {
     "data": {
      "text/html": [
       " View project at <a href='https://wandb.ai/karan912/huggingface' target=\"_blank\">https://wandb.ai/karan912/huggingface</a>"
      ],
      "text/plain": [
       "<IPython.core.display.HTML object>"
      ]
     },
     "metadata": {},
     "output_type": "display_data"
    },
    {
     "data": {
      "text/html": [
       " View run at <a href='https://wandb.ai/karan912/huggingface/runs/xbholosh' target=\"_blank\">https://wandb.ai/karan912/huggingface/runs/xbholosh</a>"
      ],
      "text/plain": [
       "<IPython.core.display.HTML object>"
      ]
     },
     "metadata": {},
     "output_type": "display_data"
    },
    {
     "data": {
      "text/html": [
       "\n",
       "    <div>\n",
       "      \n",
       "      <progress value='506' max='606' style='width:300px; height:20px; vertical-align: middle;'></progress>\n",
       "      [506/606 09:42 < 01:55, 0.86 it/s, Epoch 5/6]\n",
       "    </div>\n",
       "    <table border=\"1\" class=\"dataframe\">\n",
       "  <thead>\n",
       " <tr style=\"text-align: left;\">\n",
       "      <th>Epoch</th>\n",
       "      <th>Training Loss</th>\n",
       "      <th>Validation Loss</th>\n",
       "      <th>Accuracy</th>\n",
       "      <th>Macro avg f1</th>\n",
       "    </tr>\n",
       "  </thead>\n",
       "  <tbody>\n",
       "    <tr>\n",
       "      <td>1</td>\n",
       "      <td>6.819700</td>\n",
       "      <td>6.089250</td>\n",
       "      <td>0.742284</td>\n",
       "      <td>0.575001</td>\n",
       "    </tr>\n",
       "    <tr>\n",
       "      <td>2</td>\n",
       "      <td>5.907300</td>\n",
       "      <td>5.909597</td>\n",
       "      <td>0.749131</td>\n",
       "      <td>0.579116</td>\n",
       "    </tr>\n",
       "    <tr>\n",
       "      <td>3</td>\n",
       "      <td>5.665800</td>\n",
       "      <td>5.801814</td>\n",
       "      <td>0.753707</td>\n",
       "      <td>0.595282</td>\n",
       "    </tr>\n",
       "    <tr>\n",
       "      <td>4</td>\n",
       "      <td>5.501600</td>\n",
       "      <td>5.789892</td>\n",
       "      <td>0.753565</td>\n",
       "      <td>0.595933</td>\n",
       "    </tr>\n",
       "    <tr>\n",
       "      <td>5</td>\n",
       "      <td>5.380200</td>\n",
       "      <td>5.765035</td>\n",
       "      <td>0.755552</td>\n",
       "      <td>0.597450</td>\n",
       "    </tr>\n",
       "  </tbody>\n",
       "</table><p>"
      ],
      "text/plain": [
       "<IPython.core.display.HTML object>"
      ]
     },
     "metadata": {},
     "output_type": "display_data"
    },
    {
     "name": "stdout",
     "output_type": "stream",
     "text": [
      "              precision    recall  f1-score   support\n",
      "\n",
      "           0       0.82      0.86      0.84     14976\n",
      "           1       0.70      0.66      0.68      6375\n",
      "           2       0.59      0.40      0.48      2093\n",
      "           3       0.54      0.62      0.58      2549\n",
      "           4       0.74      0.69      0.71       797\n",
      "           5       0.60      0.67      0.63       932\n",
      "           6       0.84      0.76      0.80       277\n",
      "           7       0.89      0.31      0.45       131\n",
      "           8       0.00      0.00      0.00        60\n",
      "\n",
      "    accuracy                           0.74     28190\n",
      "   macro avg       0.64      0.55      0.58     28190\n",
      "weighted avg       0.74      0.74      0.74     28190\n",
      "\n",
      "              precision    recall  f1-score   support\n",
      "\n",
      "           0       0.83      0.86      0.84     14976\n",
      "           1       0.71      0.67      0.69      6375\n",
      "           2       0.61      0.39      0.48      2093\n",
      "           3       0.54      0.66      0.60      2549\n",
      "           4       0.70      0.74      0.72       797\n",
      "           5       0.59      0.64      0.61       932\n",
      "           6       0.84      0.77      0.80       277\n",
      "           7       0.89      0.31      0.46       131\n",
      "           8       0.00      0.00      0.00        60\n",
      "\n",
      "    accuracy                           0.75     28190\n",
      "   macro avg       0.64      0.56      0.58     28190\n",
      "weighted avg       0.75      0.75      0.74     28190\n",
      "\n",
      "              precision    recall  f1-score   support\n",
      "\n",
      "           0       0.83      0.86      0.84     14976\n",
      "           1       0.71      0.69      0.70      6375\n",
      "           2       0.63      0.38      0.48      2093\n",
      "           3       0.55      0.66      0.60      2549\n",
      "           4       0.75      0.71      0.73       797\n",
      "           5       0.60      0.78      0.68       932\n",
      "           6       0.84      0.78      0.81       277\n",
      "           7       0.82      0.35      0.49       131\n",
      "           8       1.00      0.02      0.03        60\n",
      "\n",
      "    accuracy                           0.75     28190\n",
      "   macro avg       0.75      0.58      0.60     28190\n",
      "weighted avg       0.75      0.75      0.75     28190\n",
      "\n",
      "              precision    recall  f1-score   support\n",
      "\n",
      "           0       0.83      0.86      0.84     14976\n",
      "           1       0.72      0.68      0.70      6375\n",
      "           2       0.59      0.43      0.50      2093\n",
      "           3       0.56      0.63      0.59      2549\n",
      "           4       0.78      0.67      0.72       797\n",
      "           5       0.60      0.77      0.67       932\n",
      "           6       0.83      0.78      0.80       277\n",
      "           7       0.84      0.36      0.50       131\n",
      "           8       1.00      0.02      0.03        60\n",
      "\n",
      "    accuracy                           0.75     28190\n",
      "   macro avg       0.75      0.58      0.60     28190\n",
      "weighted avg       0.75      0.75      0.75     28190\n",
      "\n",
      "              precision    recall  f1-score   support\n",
      "\n",
      "           0       0.83      0.86      0.85     14976\n",
      "           1       0.71      0.69      0.70      6375\n",
      "           2       0.64      0.40      0.49      2093\n",
      "           3       0.56      0.66      0.60      2549\n",
      "           4       0.76      0.70      0.73       797\n",
      "           5       0.59      0.80      0.68       932\n",
      "           6       0.83      0.78      0.80       277\n",
      "           7       0.81      0.36      0.50       131\n",
      "           8       0.33      0.02      0.03        60\n",
      "\n",
      "    accuracy                           0.76     28190\n",
      "   macro avg       0.67      0.58      0.60     28190\n",
      "weighted avg       0.76      0.76      0.75     28190\n",
      "\n"
     ]
    }
   ],
   "source": [
    "trainer.train()\n",
    "trainer.save_model(f\"./vit4/{category}/final\")"
   ]
  },
  {
   "cell_type": "code",
   "execution_count": 22,
   "id": "c3474278",
   "metadata": {},
   "outputs": [
    {
     "data": {
      "text/html": [
       "\n",
       "    <div>\n",
       "      \n",
       "      <progress value='144' max='144' style='width:300px; height:20px; vertical-align: middle;'></progress>\n",
       "      [144/144 01:56]\n",
       "    </div>\n",
       "    "
      ],
      "text/plain": [
       "<IPython.core.display.HTML object>"
      ]
     },
     "metadata": {},
     "output_type": "display_data"
    },
    {
     "name": "stdout",
     "output_type": "stream",
     "text": [
      "              precision    recall  f1-score   support\n",
      "\n",
      "           0       0.84      0.86      0.85     73476\n",
      "           1       0.73      0.70      0.71     31444\n",
      "           2       0.72      0.43      0.54     10444\n",
      "           3       0.59      0.69      0.63     12997\n",
      "           4       0.79      0.74      0.76      4010\n",
      "           5       0.62      0.82      0.71      4851\n",
      "           6       0.86      0.85      0.85      1370\n",
      "           7       0.89      0.43      0.58       625\n",
      "           8       0.94      0.20      0.32       245\n",
      "\n",
      "    accuracy                           0.77    139462\n",
      "   macro avg       0.77      0.64      0.66    139462\n",
      "weighted avg       0.77      0.77      0.77    139462\n",
      "\n"
     ]
    },
    {
     "data": {
      "text/plain": [
       "{'eval_loss': 5.268681049346924,\n",
       " 'eval_accuracy': 0.7702169766674793,\n",
       " 'eval_macro avg f1': 0.6631648524116359,\n",
       " 'eval_runtime': 118.3216,\n",
       " 'eval_samples_per_second': 155.052,\n",
       " 'eval_steps_per_second': 1.217,\n",
       " 'epoch': 6.0}"
      ]
     },
     "execution_count": 22,
     "metadata": {},
     "output_type": "execute_result"
    }
   ],
   "source": [
    "trainer.evaluate(test_fashion_data)"
   ]
  }
 ],
 "metadata": {
  "kernelspec": {
   "display_name": "mhcp4",
   "language": "python",
   "name": "python3"
  },
  "language_info": {
   "codemirror_mode": {
    "name": "ipython",
    "version": 3
   },
   "file_extension": ".py",
   "mimetype": "text/x-python",
   "name": "python",
   "nbconvert_exporter": "python",
   "pygments_lexer": "ipython3",
   "version": "3.8.19"
  }
 },
 "nbformat": 4,
 "nbformat_minor": 5
}
