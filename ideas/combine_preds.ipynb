{
 "cells": [
  {
   "cell_type": "code",
   "execution_count": 1,
   "metadata": {},
   "outputs": [],
   "source": [
    "import pandas as pd"
   ]
  },
  {
   "cell_type": "code",
   "execution_count": 2,
   "metadata": {},
   "outputs": [
    {
     "name": "stdout",
     "output_type": "stream",
     "text": [
      "id          0\n",
      "Category    0\n",
      "len         0\n",
      "attr_1      0\n",
      "attr_2      0\n",
      "attr_3      0\n",
      "attr_4      0\n",
      "attr_5      0\n",
      "attr_6      0\n",
      "attr_7      0\n",
      "attr_8      0\n",
      "attr_9      0\n",
      "attr_10     0\n",
      "dtype: int64\n"
     ]
    }
   ],
   "source": [
    "categories=['Men Tshirts','Sarees','Kurtis','Women Tshirts','Women Tops & Tunics']\n",
    "df=None\n",
    "for i in categories:\n",
    "    d2f=pd.read_csv(\"preds/\"+i+'.csv')\n",
    "    # if df==None:\n",
    "    #     df=d2f\n",
    "    # else:\n",
    "    df=pd.concat([df,d2f])\n",
    "df.fillna(\"default\",inplace=True)\n",
    "print(df.isna().sum())\n",
    "df.to_csv(\"preds11.csv\")"
   ]
  },
  {
   "cell_type": "code",
   "execution_count": 2,
   "metadata": {},
   "outputs": [
    {
     "name": "stdout",
     "output_type": "stream",
     "text": [
      "30205\n",
      "23280\n"
     ]
    }
   ],
   "source": [
    "df1=pd.read_csv(\"preds9.csv\")\n",
    "print(len(df1))\n",
    "df1=df1[df1['Category']!=\"Women Tops & Tunics\"]\n",
    "print(len(df1))\n",
    "df2=pd.read_csv(\"preds/Women Tops & Tunics.csv\")\n",
    "df1=pd.concat([df1,df2])\n",
    "df1.fillna(\"default2\",inplace=True)\n",
    "df1.to_csv(\"preds10.csv\")"
   ]
  }
 ],
 "metadata": {
  "kernelspec": {
   "display_name": "mhcp4",
   "language": "python",
   "name": "python3"
  },
  "language_info": {
   "codemirror_mode": {
    "name": "ipython",
    "version": 3
   },
   "file_extension": ".py",
   "mimetype": "text/x-python",
   "name": "python",
   "nbconvert_exporter": "python",
   "pygments_lexer": "ipython3",
   "version": "3.8.19"
  }
 },
 "nbformat": 4,
 "nbformat_minor": 2
}
