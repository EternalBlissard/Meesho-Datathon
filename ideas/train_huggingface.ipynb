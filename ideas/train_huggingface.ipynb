{
 "cells": [
  {
   "cell_type": "code",
   "execution_count": 1,
   "id": "08046f22-db0f-45bb-8aa5-18309a23a1e1",
   "metadata": {
    "execution": {
     "iopub.execute_input": "2024-10-14T11:28:23.940808Z",
     "iopub.status.busy": "2024-10-14T11:28:23.940248Z",
     "iopub.status.idle": "2024-10-14T11:28:26.614016Z",
     "shell.execute_reply": "2024-10-14T11:28:26.613452Z",
     "shell.execute_reply.started": "2024-10-14T11:28:23.940788Z"
    }
   },
   "outputs": [],
   "source": [
    "import os\n",
    "os.environ['CUDA_VISIBLE_DEVICES'] = '1'\n",
    "import torch\n",
    "import pandas as pd\n",
    "from PIL import ImageDraw, ImageFont, Image\n",
    "import numpy as np\n",
    "import matplotlib.pyplot as plt\n",
    "from torch.utils.data import Dataset, DataLoader\n",
    "from torchvision import transforms, utils\n",
    "import torch\n",
    "import torch.nn as nn\n",
    "from transformers import ViTModel\n",
    "from torchinfo import summary  # \n",
    "# Ignore warnings\n",
    "import warnings\n",
    "warnings.filterwarnings(\"ignore\")\n",
    "import random\n",
    "import time\n",
    "from sklearn.utils.class_weight import compute_class_weight\n",
    "from transformers import EfficientNetForImageClassification\n",
    "model=EfficientNetForImageClassification.from_pretrained('efficientnet-b0',num_classes=2)"
   ]
  },
  {
   "cell_type": "code",
   "execution_count": 2,
   "id": "3438730c-888d-4fd7-b57e-8ff63ab4f94a",
   "metadata": {
    "execution": {
     "iopub.execute_input": "2024-10-14T11:28:26.616389Z",
     "iopub.status.busy": "2024-10-14T11:28:26.616065Z",
     "iopub.status.idle": "2024-10-14T11:28:26.620522Z",
     "shell.execute_reply": "2024-10-14T11:28:26.619968Z",
     "shell.execute_reply.started": "2024-10-14T11:28:26.616371Z"
    }
   },
   "outputs": [],
   "source": [
    "DEVICE=\"cuda:0\"\n",
    "def setAllSeeds(seed):\n",
    "  os.environ['MY_GLOBAL_SEED'] = str(seed)\n",
    "  random.seed(seed)\n",
    "  np.random.seed(seed)\n",
    "  torch.manual_seed(seed)\n",
    "  torch.cuda.manual_seed_all(seed)\n",
    "# setAllSeeds(42)"
   ]
  },
  {
   "cell_type": "code",
   "execution_count": 3,
   "id": "78a86c36-a933-42bf-92c1-bd6cfbf0975b",
   "metadata": {
    "execution": {
     "iopub.execute_input": "2024-10-14T11:28:26.625620Z",
     "iopub.status.busy": "2024-10-14T11:28:26.625171Z",
     "iopub.status.idle": "2024-10-14T11:28:26.717777Z",
     "shell.execute_reply": "2024-10-14T11:28:26.717238Z",
     "shell.execute_reply.started": "2024-10-14T11:28:26.625599Z"
    }
   },
   "outputs": [
    {
     "name": "stdout",
     "output_type": "stream",
     "text": [
      "['Men Tshirts' 'Sarees' 'Kurtis' 'Women Tshirts' 'Women Tops & Tunics']\n"
     ]
    }
   ],
   "source": [
    "df = pd.read_csv(\"train.csv\")\n",
    "categories=df[\"Category\"].unique()\n",
    "print(categories)\n",
    "category=categories[0]\n",
    "df = df[df[\"Category\"]==category]"
   ]
  },
  {
   "cell_type": "code",
   "execution_count": 4,
   "id": "d1c43f05",
   "metadata": {},
   "outputs": [
    {
     "data": {
      "text/plain": [
       "id              0\n",
       "Category        0\n",
       "len             0\n",
       "attr_1       4946\n",
       "attr_2       5667\n",
       "attr_3       5938\n",
       "attr_4       5553\n",
       "attr_5       6437\n",
       "attr_6       5787\n",
       "attr_7       5788\n",
       "attr_8       5207\n",
       "attr_9       6433\n",
       "attr_10     11823\n",
       "dtype: int64"
      ]
     },
     "execution_count": 4,
     "metadata": {},
     "output_type": "execute_result"
    }
   ],
   "source": [
    "df.isna().sum()"
   ]
  },
  {
   "cell_type": "code",
   "execution_count": 5,
   "id": "ae75c4ea",
   "metadata": {},
   "outputs": [
    {
     "name": "stdout",
     "output_type": "stream",
     "text": [
      "          id             Category  len     attr_1   attr_2   attr_3  \\\n",
      "51209  51375  Women Tops & Tunics   10      black  regular      NaN   \n",
      "51210  51376  Women Tops & Tunics   10  navy blue   fitted     crop   \n",
      "51211  51377  Women Tops & Tunics   10        red  regular  regular   \n",
      "51212  51378  Women Tops & Tunics   10    default   fitted     crop   \n",
      "51213  51379  Women Tops & Tunics   10    default     boxy  regular   \n",
      "\n",
      "           attr_4  attr_5   attr_6      attr_7         attr_8  \\\n",
      "51209         NaN     NaN      NaN         NaN            NaN   \n",
      "51210        high  casual  default       solid  short sleeves   \n",
      "51211  round neck  casual  printed  typography     sleeveless   \n",
      "51212    stylised  casual    solid       solid  short sleeves   \n",
      "51213  round neck  casual  printed  typography  short sleeves   \n",
      "\n",
      "                attr_9  attr_10  \n",
      "51209  regular sleeves      NaN  \n",
      "51210          default  knitted  \n",
      "51211       sleeveless      NaN  \n",
      "51212  regular sleeves  default  \n",
      "51213          default      NaN  \n"
     ]
    }
   ],
   "source": [
    "i=5\n",
    "# df.iloc[:,3:2+i]=np.nan\n",
    "# df.iloc[:,3+i:]=np.nan\n",
    "# df.iloc[:,[5,6]]=np.nan\n",
    "print(df.head())\n"
   ]
  },
  {
   "cell_type": "code",
   "execution_count": 7,
   "id": "218fb75d-1b90-416b-9a41-288de39def1b",
   "metadata": {
    "execution": {
     "iopub.execute_input": "2024-10-14T11:28:26.719372Z",
     "iopub.status.busy": "2024-10-14T11:28:26.719005Z",
     "iopub.status.idle": "2024-10-14T11:28:26.725099Z",
     "shell.execute_reply": "2024-10-14T11:28:26.724553Z",
     "shell.execute_reply.started": "2024-10-14T11:28:26.719356Z"
    }
   },
   "outputs": [
    {
     "name": "stdout",
     "output_type": "stream",
     "text": [
      "['black' 'navy blue' 'red' 'default' 'maroon' 'white' 'green' 'blue'\n",
      " 'pink' 'yellow' 'peach' 'multicolor']\n",
      "['regular' 'fitted' 'boxy' 'default']\n",
      "['crop' 'regular']\n",
      "['high' 'round neck' 'stylised' 'sweetheart neck' 'v-neck' 'square neck'\n",
      " 'default']\n",
      "['casual' 'party']\n",
      "['default' 'printed' 'solid']\n",
      "['solid' 'typography' 'graphic' 'default' 'quirky' 'floral']\n",
      "['short sleeves' 'sleeveless' 'three-quarter sleeves' 'long sleeves']\n",
      "['regular sleeves' 'default' 'sleeveless' 'puff sleeves']\n",
      "['knitted' 'default' 'ruffles' 'waist tie-ups' 'tie-ups' 'applique']\n"
     ]
    }
   ],
   "source": [
    "delCol = []\n",
    "idxCol = []\n",
    "trackNum = []\n",
    "weights=[]\n",
    "m=nn.Softmax(dim=1)\n",
    "l=[]\n",
    "for i in range(1,11):\n",
    "    uniName = df[\"attr_\"+str(i)].dropna().unique()\n",
    "    print(uniName)\n",
    "    if(len(uniName)==0):\n",
    "        delCol.append(\"attr_\"+str(i))\n",
    "    else:\n",
    "        idxCol.append(\"attr_\"+str(i))\n",
    "        l.append('attr_'+str(i))\n",
    "        trackNum.append(len(uniName))\n",
    "        class_weights=compute_class_weight(class_weight=\"balanced\",classes=uniName,y=df[\"attr_\"+str(i)].dropna())\n",
    "        weights.append(torch.tensor([1]*len(uniName),dtype=torch.float32).to(DEVICE))\n"
   ]
  },
  {
   "cell_type": "code",
   "execution_count": 9,
   "id": "52d305da-99e2-424a-b774-b1ffdbd56fcf",
   "metadata": {
    "execution": {
     "iopub.execute_input": "2024-10-14T11:28:26.732549Z",
     "iopub.status.busy": "2024-10-14T11:28:26.732338Z",
     "iopub.status.idle": "2024-10-14T11:28:26.736656Z",
     "shell.execute_reply": "2024-10-14T11:28:26.736114Z",
     "shell.execute_reply.started": "2024-10-14T11:28:26.732533Z"
    }
   },
   "outputs": [
    {
     "data": {
      "text/plain": [
       "(19004, 13)"
      ]
     },
     "execution_count": 9,
     "metadata": {},
     "output_type": "execute_result"
    }
   ],
   "source": [
    "df = df.drop(delCol,axis=1)\n",
    "df.shape"
   ]
  },
  {
   "cell_type": "code",
   "execution_count": 10,
   "id": "02ce1ccc",
   "metadata": {},
   "outputs": [
    {
     "data": {
      "text/plain": [
       "id              0\n",
       "Category        0\n",
       "len             0\n",
       "attr_1       4946\n",
       "attr_2       5667\n",
       "attr_3       5938\n",
       "attr_4       5553\n",
       "attr_5       6437\n",
       "attr_6       5787\n",
       "attr_7       5788\n",
       "attr_8       5207\n",
       "attr_9       6433\n",
       "attr_10     11823\n",
       "dtype: int64"
      ]
     },
     "execution_count": 10,
     "metadata": {},
     "output_type": "execute_result"
    }
   ],
   "source": [
    "df.isna().sum()"
   ]
  },
  {
   "cell_type": "code",
   "execution_count": 11,
   "id": "a251fdd9",
   "metadata": {},
   "outputs": [],
   "source": [
    "# df.dropna(inplace=True)"
   ]
  },
  {
   "cell_type": "code",
   "execution_count": null,
   "id": "df2da111",
   "metadata": {},
   "outputs": [
    {
     "name": "stdout",
     "output_type": "stream",
     "text": [
      "{0: {0: 'black', 1: 'navy blue', 2: 'red', 3: 'default', 4: 'maroon', 5: 'white', 6: 'green', 7: 'blue', 8: 'pink', 9: 'yellow', 10: 'peach', 11: 'multicolor'}, 1: {0: 'regular', 1: 'fitted', 2: 'boxy', 3: 'default'}, 2: {0: 'crop', 1: 'regular'}, 3: {0: 'high', 1: 'round neck', 2: 'stylised', 3: 'sweetheart neck', 4: 'v-neck', 5: 'square neck', 6: 'default'}, 4: {0: 'casual', 1: 'party'}, 5: {0: 'default', 1: 'printed', 2: 'solid'}, 6: {0: 'solid', 1: 'typography', 2: 'graphic', 3: 'default', 4: 'quirky', 5: 'floral'}, 7: {0: 'short sleeves', 1: 'sleeveless', 2: 'three-quarter sleeves', 3: 'long sleeves'}, 8: {0: 'regular sleeves', 1: 'default', 2: 'sleeveless', 3: 'puff sleeves'}, 9: {0: 'knitted', 1: 'default', 2: 'ruffles', 3: 'waist tie-ups', 4: 'tie-ups', 5: 'applique'}}\n",
      "{0: {'black': 0, 'navy blue': 1, 'red': 2, 'default': 3, 'maroon': 4, 'white': 5, 'green': 6, 'blue': 7, 'pink': 8, 'yellow': 9, 'peach': 10, 'multicolor': 11}, 1: {'regular': 0, 'fitted': 1, 'boxy': 2, 'default': 3}, 2: {'crop': 0, 'regular': 1}, 3: {'high': 0, 'round neck': 1, 'stylised': 2, 'sweetheart neck': 3, 'v-neck': 4, 'square neck': 5, 'default': 6}, 4: {'casual': 0, 'party': 1}, 5: {'default': 0, 'printed': 1, 'solid': 2}, 6: {'solid': 0, 'typography': 1, 'graphic': 2, 'default': 3, 'quirky': 4, 'floral': 5}, 7: {'short sleeves': 0, 'sleeveless': 1, 'three-quarter sleeves': 2, 'long sleeves': 3}, 8: {'regular sleeves': 0, 'default': 1, 'sleeveless': 2, 'puff sleeves': 3}, 9: {'knitted': 0, 'default': 1, 'ruffles': 2, 'waist tie-ups': 3, 'tie-ups': 4, 'applique': 5}}\n",
      "{0: 'attr_1', 1: 'attr_2', 2: 'attr_3', 3: 'attr_4', 4: 'attr_5', 5: 'attr_6', 6: 'attr_7', 7: 'attr_8', 8: 'attr_9', 9: 'attr_10'}\n"
     ]
    }
   ],
   "source": [
    "id2label={}\n",
    "label2id={}\n",
    "attrs={}\n",
    "total_attr=len(df.columns)\n",
    "for i in range(3,total_attr):\n",
    "    labels=df[df.columns[i]].dropna().unique()\n",
    "    # print(df.columns[i],labels)\n",
    "    id2label[i-3]={k:labels[k] for k in range(len(labels))}\n",
    "    label2id[i-3]={labels[k]:k for k in range(len(labels))}\n",
    "    attrs[i-3]=df.columns[i]\n",
    "print(id2label)\n",
    "print(label2id)\n",
    "print(attrs)"
   ]
  },
  {
   "cell_type": "code",
   "execution_count": null,
   "id": "c7a9dcec",
   "metadata": {},
   "outputs": [],
   "source": []
  },
  {
   "cell_type": "code",
   "execution_count": 13,
   "id": "f394a515",
   "metadata": {},
   "outputs": [
    {
     "data": {
      "text/html": [
       "<div>\n",
       "<style scoped>\n",
       "    .dataframe tbody tr th:only-of-type {\n",
       "        vertical-align: middle;\n",
       "    }\n",
       "\n",
       "    .dataframe tbody tr th {\n",
       "        vertical-align: top;\n",
       "    }\n",
       "\n",
       "    .dataframe thead th {\n",
       "        text-align: right;\n",
       "    }\n",
       "</style>\n",
       "<table border=\"1\" class=\"dataframe\">\n",
       "  <thead>\n",
       "    <tr style=\"text-align: right;\">\n",
       "      <th></th>\n",
       "      <th>id</th>\n",
       "      <th>Category</th>\n",
       "      <th>len</th>\n",
       "      <th>attr_1</th>\n",
       "      <th>attr_2</th>\n",
       "      <th>attr_3</th>\n",
       "      <th>attr_4</th>\n",
       "      <th>attr_5</th>\n",
       "      <th>attr_6</th>\n",
       "      <th>attr_7</th>\n",
       "      <th>attr_8</th>\n",
       "      <th>attr_9</th>\n",
       "      <th>attr_10</th>\n",
       "    </tr>\n",
       "  </thead>\n",
       "  <tbody>\n",
       "    <tr>\n",
       "      <th>51209</th>\n",
       "      <td>51375</td>\n",
       "      <td>Women Tops &amp; Tunics</td>\n",
       "      <td>10</td>\n",
       "      <td>0</td>\n",
       "      <td>0</td>\n",
       "      <td>-100</td>\n",
       "      <td>-100</td>\n",
       "      <td>-100</td>\n",
       "      <td>-100</td>\n",
       "      <td>-100</td>\n",
       "      <td>-100</td>\n",
       "      <td>0</td>\n",
       "      <td>-100</td>\n",
       "    </tr>\n",
       "    <tr>\n",
       "      <th>51210</th>\n",
       "      <td>51376</td>\n",
       "      <td>Women Tops &amp; Tunics</td>\n",
       "      <td>10</td>\n",
       "      <td>1</td>\n",
       "      <td>1</td>\n",
       "      <td>0</td>\n",
       "      <td>0</td>\n",
       "      <td>0</td>\n",
       "      <td>0</td>\n",
       "      <td>0</td>\n",
       "      <td>0</td>\n",
       "      <td>1</td>\n",
       "      <td>0</td>\n",
       "    </tr>\n",
       "    <tr>\n",
       "      <th>51211</th>\n",
       "      <td>51377</td>\n",
       "      <td>Women Tops &amp; Tunics</td>\n",
       "      <td>10</td>\n",
       "      <td>2</td>\n",
       "      <td>0</td>\n",
       "      <td>1</td>\n",
       "      <td>1</td>\n",
       "      <td>0</td>\n",
       "      <td>1</td>\n",
       "      <td>1</td>\n",
       "      <td>1</td>\n",
       "      <td>2</td>\n",
       "      <td>-100</td>\n",
       "    </tr>\n",
       "    <tr>\n",
       "      <th>51212</th>\n",
       "      <td>51378</td>\n",
       "      <td>Women Tops &amp; Tunics</td>\n",
       "      <td>10</td>\n",
       "      <td>3</td>\n",
       "      <td>1</td>\n",
       "      <td>0</td>\n",
       "      <td>2</td>\n",
       "      <td>0</td>\n",
       "      <td>2</td>\n",
       "      <td>0</td>\n",
       "      <td>0</td>\n",
       "      <td>0</td>\n",
       "      <td>1</td>\n",
       "    </tr>\n",
       "    <tr>\n",
       "      <th>51213</th>\n",
       "      <td>51379</td>\n",
       "      <td>Women Tops &amp; Tunics</td>\n",
       "      <td>10</td>\n",
       "      <td>3</td>\n",
       "      <td>2</td>\n",
       "      <td>1</td>\n",
       "      <td>1</td>\n",
       "      <td>0</td>\n",
       "      <td>1</td>\n",
       "      <td>1</td>\n",
       "      <td>0</td>\n",
       "      <td>1</td>\n",
       "      <td>-100</td>\n",
       "    </tr>\n",
       "  </tbody>\n",
       "</table>\n",
       "</div>"
      ],
      "text/plain": [
       "          id             Category  len  attr_1  attr_2  attr_3  attr_4  \\\n",
       "51209  51375  Women Tops & Tunics   10       0       0    -100    -100   \n",
       "51210  51376  Women Tops & Tunics   10       1       1       0       0   \n",
       "51211  51377  Women Tops & Tunics   10       2       0       1       1   \n",
       "51212  51378  Women Tops & Tunics   10       3       1       0       2   \n",
       "51213  51379  Women Tops & Tunics   10       3       2       1       1   \n",
       "\n",
       "       attr_5  attr_6  attr_7  attr_8  attr_9  attr_10  \n",
       "51209    -100    -100    -100    -100       0     -100  \n",
       "51210       0       0       0       0       1        0  \n",
       "51211       0       1       1       1       2     -100  \n",
       "51212       0       2       0       0       0        1  \n",
       "51213       0       1       1       0       1     -100  "
      ]
     },
     "execution_count": 13,
     "metadata": {},
     "output_type": "execute_result"
    }
   ],
   "source": [
    "def categorize(example):\n",
    "    for i in attrs:\n",
    "        # print(example[attrs[i]],type(example[attrs[i]]),pd.isna(example[attrs[i]]))\n",
    "        if not pd.isna(example[attrs[i]]):\n",
    "            example[attrs[i]]=label2id[i][example[attrs[i]]]\n",
    "        else:\n",
    "            example[attrs[i]]=-100\n",
    "    return example\n",
    "df=df.apply(categorize,axis=1)\n",
    "df.head()"
   ]
  },
  {
   "cell_type": "code",
   "execution_count": 14,
   "id": "f1df7b6c",
   "metadata": {},
   "outputs": [
    {
     "data": {
      "text/plain": [
       "id          0\n",
       "Category    0\n",
       "len         0\n",
       "attr_1      0\n",
       "attr_2      0\n",
       "attr_3      0\n",
       "attr_4      0\n",
       "attr_5      0\n",
       "attr_6      0\n",
       "attr_7      0\n",
       "attr_8      0\n",
       "attr_9      0\n",
       "attr_10     0\n",
       "dtype: int64"
      ]
     },
     "execution_count": 14,
     "metadata": {},
     "output_type": "execute_result"
    }
   ],
   "source": [
    "df.isna().sum()"
   ]
  },
  {
   "cell_type": "code",
   "execution_count": 15,
   "id": "332990dc",
   "metadata": {},
   "outputs": [],
   "source": [
    "from sklearn.model_selection import train_test_split\n",
    "\n",
    "\n",
    "train_df, val_df = train_test_split(df, test_size=0.2, random_state=42)\n",
    "# val_df,test_df=train_test_split(val_df,test_size=0.33)\n",
    "# train_df=df\n",
    "# val_df=train_df\n",
    "# test_df=train_df"
   ]
  },
  {
   "cell_type": "code",
   "execution_count": 16,
   "id": "933021b2",
   "metadata": {},
   "outputs": [
    {
     "name": "stdout",
     "output_type": "stream",
     "text": [
      "attr_1\n",
      "-100    3969\n",
      " 0      2158\n",
      " 5      1962\n",
      " 3      1560\n",
      " 8      1222\n",
      " 7       753\n",
      " 9       750\n",
      " 4       635\n",
      " 2       631\n",
      " 6       537\n",
      " 11      369\n",
      " 1       341\n",
      " 10      316\n",
      "Name: count, dtype: int64\n",
      "attr_2\n",
      "-100    4546\n",
      " 1      4406\n",
      " 0      3841\n",
      " 2      1656\n",
      " 3       754\n",
      "Name: count, dtype: int64\n",
      "attr_3\n",
      " 1      5863\n",
      "-100    4747\n",
      " 0      4593\n",
      "Name: count, dtype: int64\n",
      "attr_4\n",
      " 1      5594\n",
      "-100    4422\n",
      " 0      1481\n",
      " 5       946\n",
      " 4       881\n",
      " 6       865\n",
      " 3       626\n",
      " 2       388\n",
      "Name: count, dtype: int64\n",
      "attr_5\n",
      " 0      9869\n",
      "-100    5167\n",
      " 1       167\n",
      "Name: count, dtype: int64\n",
      "attr_6\n",
      " 2      6221\n",
      "-100    4622\n",
      " 1      3609\n",
      " 0       751\n",
      "Name: count, dtype: int64\n",
      "attr_7\n",
      " 0      6428\n",
      "-100    4622\n",
      " 3      1383\n",
      " 1      1259\n",
      " 4       663\n",
      " 2       464\n",
      " 5       384\n",
      "Name: count, dtype: int64\n",
      "attr_8\n",
      " 0      5953\n",
      "-100    4136\n",
      " 3      2837\n",
      " 2      1444\n",
      " 1       833\n",
      "Name: count, dtype: int64\n",
      "attr_9\n",
      " 0      5983\n",
      "-100    5159\n",
      " 3      2174\n",
      " 1      1300\n",
      " 2       587\n",
      "Name: count, dtype: int64\n",
      "attr_10\n",
      "-100    9440\n",
      " 0      2896\n",
      " 1       910\n",
      " 2       649\n",
      " 4       501\n",
      " 3       471\n",
      " 5       336\n",
      "Name: count, dtype: int64\n"
     ]
    }
   ],
   "source": [
    "for i in l:\n",
    "    print(train_df[i].value_counts())"
   ]
  },
  {
   "cell_type": "code",
   "execution_count": 17,
   "id": "80e10ab0",
   "metadata": {},
   "outputs": [],
   "source": [
    "# for i in l:\n",
    "#     print(i)\n",
    "#     for j in set(train_df[i].unique()):\n",
    "#         x=train_df[i][train_df[i]==j]\n",
    "#         if x.count()<300 and j!=-100:\n",
    "#             y=train_df[train_df[i]==j]\n",
    "#             y.iloc[:,3:]=-100\n",
    "#             y[i]=j\n",
    "#             print(y)\n",
    "#             train_df=pd.concat([train_df,y,y]).reset_index(drop=True)\n",
    "# for i in l:\n",
    "#     print(train_df[i].value_counts())"
   ]
  },
  {
   "cell_type": "code",
   "execution_count": 18,
   "id": "36416a7e",
   "metadata": {},
   "outputs": [
    {
     "data": {
      "text/html": [
       "<div>\n",
       "<style scoped>\n",
       "    .dataframe tbody tr th:only-of-type {\n",
       "        vertical-align: middle;\n",
       "    }\n",
       "\n",
       "    .dataframe tbody tr th {\n",
       "        vertical-align: top;\n",
       "    }\n",
       "\n",
       "    .dataframe thead th {\n",
       "        text-align: right;\n",
       "    }\n",
       "</style>\n",
       "<table border=\"1\" class=\"dataframe\">\n",
       "  <thead>\n",
       "    <tr style=\"text-align: right;\">\n",
       "      <th></th>\n",
       "      <th>id</th>\n",
       "      <th>Category</th>\n",
       "      <th>len</th>\n",
       "      <th>attr_1</th>\n",
       "      <th>attr_2</th>\n",
       "      <th>attr_3</th>\n",
       "      <th>attr_4</th>\n",
       "      <th>attr_5</th>\n",
       "      <th>attr_6</th>\n",
       "      <th>attr_7</th>\n",
       "      <th>attr_8</th>\n",
       "      <th>attr_9</th>\n",
       "      <th>attr_10</th>\n",
       "    </tr>\n",
       "  </thead>\n",
       "  <tbody>\n",
       "    <tr>\n",
       "      <th>56665</th>\n",
       "      <td>56831</td>\n",
       "      <td>Women Tops &amp; Tunics</td>\n",
       "      <td>10</td>\n",
       "      <td>0</td>\n",
       "      <td>1</td>\n",
       "      <td>0</td>\n",
       "      <td>1</td>\n",
       "      <td>0</td>\n",
       "      <td>2</td>\n",
       "      <td>0</td>\n",
       "      <td>0</td>\n",
       "      <td>0</td>\n",
       "      <td>0</td>\n",
       "    </tr>\n",
       "    <tr>\n",
       "      <th>53783</th>\n",
       "      <td>53949</td>\n",
       "      <td>Women Tops &amp; Tunics</td>\n",
       "      <td>10</td>\n",
       "      <td>-100</td>\n",
       "      <td>-100</td>\n",
       "      <td>-100</td>\n",
       "      <td>-100</td>\n",
       "      <td>0</td>\n",
       "      <td>-100</td>\n",
       "      <td>-100</td>\n",
       "      <td>0</td>\n",
       "      <td>1</td>\n",
       "      <td>-100</td>\n",
       "    </tr>\n",
       "    <tr>\n",
       "      <th>55647</th>\n",
       "      <td>55813</td>\n",
       "      <td>Women Tops &amp; Tunics</td>\n",
       "      <td>10</td>\n",
       "      <td>-100</td>\n",
       "      <td>0</td>\n",
       "      <td>-100</td>\n",
       "      <td>0</td>\n",
       "      <td>0</td>\n",
       "      <td>2</td>\n",
       "      <td>0</td>\n",
       "      <td>2</td>\n",
       "      <td>1</td>\n",
       "      <td>-100</td>\n",
       "    </tr>\n",
       "    <tr>\n",
       "      <th>56911</th>\n",
       "      <td>57077</td>\n",
       "      <td>Women Tops &amp; Tunics</td>\n",
       "      <td>10</td>\n",
       "      <td>1</td>\n",
       "      <td>0</td>\n",
       "      <td>1</td>\n",
       "      <td>2</td>\n",
       "      <td>0</td>\n",
       "      <td>2</td>\n",
       "      <td>0</td>\n",
       "      <td>0</td>\n",
       "      <td>1</td>\n",
       "      <td>-100</td>\n",
       "    </tr>\n",
       "    <tr>\n",
       "      <th>67440</th>\n",
       "      <td>67606</td>\n",
       "      <td>Women Tops &amp; Tunics</td>\n",
       "      <td>10</td>\n",
       "      <td>11</td>\n",
       "      <td>0</td>\n",
       "      <td>1</td>\n",
       "      <td>4</td>\n",
       "      <td>0</td>\n",
       "      <td>1</td>\n",
       "      <td>5</td>\n",
       "      <td>3</td>\n",
       "      <td>0</td>\n",
       "      <td>3</td>\n",
       "    </tr>\n",
       "  </tbody>\n",
       "</table>\n",
       "</div>"
      ],
      "text/plain": [
       "          id             Category  len  attr_1  attr_2  attr_3  attr_4  \\\n",
       "56665  56831  Women Tops & Tunics   10       0       1       0       1   \n",
       "53783  53949  Women Tops & Tunics   10    -100    -100    -100    -100   \n",
       "55647  55813  Women Tops & Tunics   10    -100       0    -100       0   \n",
       "56911  57077  Women Tops & Tunics   10       1       0       1       2   \n",
       "67440  67606  Women Tops & Tunics   10      11       0       1       4   \n",
       "\n",
       "       attr_5  attr_6  attr_7  attr_8  attr_9  attr_10  \n",
       "56665       0       2       0       0       0        0  \n",
       "53783       0    -100    -100       0       1     -100  \n",
       "55647       0       2       0       2       1     -100  \n",
       "56911       0       2       0       0       1     -100  \n",
       "67440       0       1       5       3       0        3  "
      ]
     },
     "execution_count": 18,
     "metadata": {},
     "output_type": "execute_result"
    }
   ],
   "source": [
    "train_df.head()"
   ]
  },
  {
   "cell_type": "code",
   "execution_count": 19,
   "id": "cfedae55",
   "metadata": {},
   "outputs": [],
   "source": [
    "from transformers import AutoImageProcessor\n",
    "# model_name = 'google/vit-base-patch16-224'\n",
    "model_name=f\"vit4/{category}/final\"\n",
    "# model_name=\"google/vit-large-patch16-224\"\n",
    "processor = AutoImageProcessor.from_pretrained(model_name,use_fast=True)"
   ]
  },
  {
   "cell_type": "code",
   "execution_count": 20,
   "id": "1113befc-d9c0-427e-98c8-467977f0f7ef",
   "metadata": {
    "execution": {
     "iopub.execute_input": "2024-10-14T11:28:26.751798Z",
     "iopub.status.busy": "2024-10-14T11:28:26.751660Z",
     "iopub.status.idle": "2024-10-14T11:28:26.756144Z",
     "shell.execute_reply": "2024-10-14T11:28:26.755669Z",
     "shell.execute_reply.started": "2024-10-14T11:28:26.751778Z"
    }
   },
   "outputs": [],
   "source": [
    "class CustomFashionManager(Dataset):\n",
    "    def __init__(self,csv_file, root_dir=\"./\",transforms =None):\n",
    "        self.fashionItems = csv_file\n",
    "        self.root_dir = root_dir\n",
    "        self.transforms = transforms\n",
    "    \n",
    "    def __len__(self):\n",
    "        return len(self.fashionItems)\n",
    "\n",
    "    def __getitem__(self, idx):\n",
    "        if torch.is_tensor(idx):\n",
    "            idx = idx.tolist()\n",
    "\n",
    "        img_name = os.path.join(self.root_dir,f\"{self.fashionItems.iloc[idx, 0]:06d}\"+'.jpg')\n",
    "        image = Image.open(img_name)\n",
    "        attributes = self.fashionItems.iloc[idx, 3:]\n",
    "        attributes = np.array(attributes)\n",
    "        attributes = attributes.astype('float')\n",
    "        \n",
    "        \n",
    "\n",
    "        \n",
    "        inputs=processor(image, return_tensors='pt')\n",
    "        inputs['labels']=torch.tensor(attributes, dtype=torch.long)\n",
    "        if self.transforms:\n",
    "            inputs['pixel_values'] = self.transforms(inputs['pixel_values'])\n",
    "        \n",
    "\n",
    "        return inputs\n"
   ]
  },
  {
   "cell_type": "code",
   "execution_count": 21,
   "id": "798bdc15-2101-4eb7-a52f-6748fd70d5d9",
   "metadata": {
    "execution": {
     "iopub.execute_input": "2024-10-14T11:28:26.756919Z",
     "iopub.status.busy": "2024-10-14T11:28:26.756780Z",
     "iopub.status.idle": "2024-10-14T11:28:27.051779Z",
     "shell.execute_reply": "2024-10-14T11:28:27.051275Z",
     "shell.execute_reply.started": "2024-10-14T11:28:26.756906Z"
    }
   },
   "outputs": [],
   "source": [
    "from torchvision import transforms\n",
    "transformations=transforms.Compose([\n",
    "    transforms.RandomRotation(degrees=90),\n",
    "    transforms.GaussianBlur(kernel_size=(9, 9), sigma=(0.1, 2.0)),\n",
    "])\n",
    "transformations=None\n",
    "train_fashion_data = CustomFashionManager(csv_file=train_df,\n",
    "                                    root_dir='train_images',transforms=transformations)\n",
    "val_fashion_data = CustomFashionManager(csv_file=val_df,\n",
    "                                    root_dir='train_images')\n",
    "# test_fashion_data = CustomFashionManager(csv_file=test_df,root_dir='train_images')\n",
    "        "
   ]
  },
  {
   "cell_type": "code",
   "execution_count": 22,
   "id": "06d3d845-6704-4cc0-acdd-a12ee3f1f8c5",
   "metadata": {
    "execution": {
     "iopub.execute_input": "2024-10-14T11:28:27.578464Z",
     "iopub.status.busy": "2024-10-14T11:28:27.578296Z",
     "iopub.status.idle": "2024-10-14T11:28:28.848764Z",
     "shell.execute_reply": "2024-10-14T11:28:28.848059Z",
     "shell.execute_reply.started": "2024-10-14T11:28:27.578419Z"
    }
   },
   "outputs": [],
   "source": [
    "import sys\n",
    "from typing import List\n",
    "from transformers import (\n",
    "    ViTConfig,ViTPreTrainedModel,ViTForImageClassification,AutoConfig,ResNetConfig,ResNetModel,ResNetPreTrainedModel,ResNetForImageClassification)\n",
    "\n",
    "\n",
    "class CustomConfig(ViTConfig):\n",
    "    def __init__(self,num_classes_per_label:List[int]=[1],**kwargs):\n",
    "        super().__init__(**kwargs)\n",
    "        self.num_classes_per_label = num_classes_per_label\n",
    "        self.attn_implementation=\"sdpa\"\n",
    "        self.hidden_size_2 = 382\n",
    "        self.attention_probs_dropout_prob=0.1\n",
    "        self.hidden_dropout_prob=0.1\n",
    "\n",
    "            \n",
    "class MultiLabelMultiClassViT(ViTPreTrainedModel):\n",
    "    config_class=CustomConfig\n",
    "    def __init__(self, config: CustomConfig) -> None:\n",
    "        super().__init__(config)\n",
    "\n",
    "        self.vit = ViTModel(config, add_pooling_layer=True)\n",
    "        self.classifiers = nn.ModuleList([\n",
    "            # nn.Sequential(\n",
    "            #     nn.Linear(config.hidden_size, config.hidden_size_2),\n",
    "            #     nn.GELU(),\n",
    "            #     nn.Linear(config.hidden_size_2, num_classes),\n",
    "            #     nn.Dropout(0.2)\n",
    "            # )\n",
    "            nn.Sequential(\n",
    "            nn.Linear(config.hidden_size, num_classes),\n",
    "            nn.Dropout(0.25)) \n",
    "            # nn.Linear(config.hidden_size, num_classes)\n",
    "            for num_classes in config.num_classes_per_label\n",
    "        ])\n",
    "        # Initialize weights and apply final processing\n",
    "        self.post_init()\n",
    "\n",
    "    def forward(self, pixel_values,labels=None):\n",
    "        # outputs = self.vit(pixel_values).last_hidden_state[:, 0, :]  # CLS token representation\n",
    "        outputs=self.vit(pixel_values).pooler_output\n",
    "        logits = [classifier(outputs) for classifier in self.classifiers]\n",
    "        if labels is not None:\n",
    "            loss=0\n",
    "            for i in range(len(logits)):\n",
    "                target=labels[:,i]\n",
    "                loss += torch.nn.functional.cross_entropy(logits[i], target,ignore_index=-100,weight=weights[i])\n",
    "            # loss=loss/len(logits)\n",
    "            return {\"loss\": loss, \"logits\": logits}\n",
    "        return {\"logits\": logits}\n",
    "\n",
    "    \n",
    "# Example usage\n",
    "num_labels = len(trackNum)  # For example, 5 different labels\n",
    "\n"
   ]
  },
  {
   "cell_type": "code",
   "execution_count": 23,
   "id": "871286a5",
   "metadata": {},
   "outputs": [
    {
     "name": "stdout",
     "output_type": "stream",
     "text": [
      "=====================================================================================\n",
      "Layer (type:depth-idx)                                       Param #\n",
      "=====================================================================================\n",
      "MultiLabelMultiClassViT                                      --\n",
      "├─ViTModel: 1-1                                              --\n",
      "│    └─ViTEmbeddings: 2-1                                    152,064\n",
      "│    │    └─ViTPatchEmbeddings: 3-1                          590,592\n",
      "│    │    └─Dropout: 3-2                                     --\n",
      "│    └─ViTEncoder: 2-2                                       --\n",
      "│    │    └─ModuleList: 3-3                                  85,054,464\n",
      "│    └─LayerNorm: 2-3                                        1,536\n",
      "│    └─ViTPooler: 2-4                                        --\n",
      "│    │    └─Linear: 3-4                                      590,592\n",
      "│    │    └─Tanh: 3-5                                        --\n",
      "├─ModuleList: 1-2                                            --\n",
      "│    └─Sequential: 2-5                                       --\n",
      "│    │    └─Linear: 3-6                                      9,228\n",
      "│    │    └─Dropout: 3-7                                     --\n",
      "│    └─Sequential: 2-6                                       --\n",
      "│    │    └─Linear: 3-8                                      3,076\n",
      "│    │    └─Dropout: 3-9                                     --\n",
      "│    └─Sequential: 2-7                                       --\n",
      "│    │    └─Linear: 3-10                                     1,538\n",
      "│    │    └─Dropout: 3-11                                    --\n",
      "│    └─Sequential: 2-8                                       --\n",
      "│    │    └─Linear: 3-12                                     5,383\n",
      "│    │    └─Dropout: 3-13                                    --\n",
      "│    └─Sequential: 2-9                                       --\n",
      "│    │    └─Linear: 3-14                                     1,538\n",
      "│    │    └─Dropout: 3-15                                    --\n",
      "│    └─Sequential: 2-10                                      --\n",
      "│    │    └─Linear: 3-16                                     2,307\n",
      "│    │    └─Dropout: 3-17                                    --\n",
      "│    └─Sequential: 2-11                                      --\n",
      "│    │    └─Linear: 3-18                                     4,614\n",
      "│    │    └─Dropout: 3-19                                    --\n",
      "│    └─Sequential: 2-12                                      --\n",
      "│    │    └─Linear: 3-20                                     3,076\n",
      "│    │    └─Dropout: 3-21                                    --\n",
      "│    └─Sequential: 2-13                                      --\n",
      "│    │    └─Linear: 3-22                                     3,076\n",
      "│    │    └─Dropout: 3-23                                    --\n",
      "│    └─Sequential: 2-14                                      --\n",
      "│    │    └─Linear: 3-24                                     4,614\n",
      "│    │    └─Dropout: 3-25                                    --\n",
      "=====================================================================================\n",
      "Total params: 86,427,698\n",
      "Trainable params: 86,427,698\n",
      "Non-trainable params: 0\n",
      "=====================================================================================\n"
     ]
    }
   ],
   "source": [
    "config=ViTConfig.from_pretrained(model_name)\n",
    "config=CustomConfig(num_classes_per_label=trackNum,**config.to_dict())\n",
    "model = MultiLabelMultiClassViT.from_pretrained(model_name, config=config)\n",
    "\n",
    "# model=MultiLabelMultiClassViT.from_pretrained(model_name)\n",
    "# for param in model.vit.parameters():\n",
    "#     param.requires_grad = False\n",
    "# model.vit.pooler.parameters().__next__().requires_grad=True\n",
    "print(summary(model))"
   ]
  },
  {
   "cell_type": "code",
   "execution_count": 24,
   "id": "9be5327a",
   "metadata": {},
   "outputs": [
    {
     "name": "stderr",
     "output_type": "stream",
     "text": [
      "Detected kernel version 5.4.0, which is below the recommended minimum of 5.5.0; this can cause the process to hang. It is recommended to upgrade the kernel to the minimum version or higher.\n"
     ]
    }
   ],
   "source": [
    "from transformers import Trainer, TrainingArguments\n",
    "from sklearn.metrics import classification_report\n",
    "batch_size = 32\n",
    "def collate_fn(batch):\n",
    "    return {\n",
    "        'pixel_values': torch.cat([x['pixel_values'] for x in batch],dim=0),\n",
    "        'labels': torch.stack([x['labels'] for x in batch])\n",
    "    }\n",
    "\n",
    "def compute_metrics(pred):\n",
    "    logits = pred.predictions\n",
    "    labels=pred.label_ids\n",
    "    probs = np.stack([np.argmax(logit,axis=1) for logit in logits])\n",
    "    probs=probs.T\n",
    "    f1s=[]\n",
    "    accs=[]\n",
    "    for i in range(labels.shape[1]):\n",
    "        non_padding_indices = [j for j, label in enumerate(labels[:,i]) if label != -100]\n",
    "        labels_ = [labels[j,i] for j in non_padding_indices]\n",
    "        probs_ = [probs[j,i] for j in non_padding_indices]\n",
    "        report=classification_report(labels_,probs_,output_dict=True)\n",
    "        # print(classification_report(labels_,probs_))\n",
    "        f1s.append(report['macro avg']['f1-score'])\n",
    "        accs.append(report['accuracy'])\n",
    "    metrics=pd.DataFrame({\"attr\":list(attrs.values()),\"acc\":accs,\"f1\":f1s})\n",
    "    print(metrics)\n",
    "\n",
    "    logits = pred.predictions\n",
    "    labels=pred.label_ids\n",
    "    probs = np.stack([np.argmax(logit,axis=1) for logit in logits])\n",
    "    probs=probs.T\n",
    "    labels=labels.flatten()\n",
    "    probs=probs.flatten()\n",
    "    non_padding_indices = [i for i, label in enumerate(labels) if label != -100]\n",
    "    labels = [labels[i] for i in non_padding_indices]\n",
    "    probs = [probs[i] for i in non_padding_indices]\n",
    "    print(classification_report(labels,probs))\n",
    "    return {'accuracy': np.mean(accs),\"macro avg f1\":np.mean(f1s)}\n",
    "\n",
    "    # report=classification_report(labels,probs,output_dict=True)\n",
    "    # return {'accuracy': report['accuracy'],\"macro avg f1\":report['macro avg']['f1-score']}\n",
    "\n",
    "training_args = TrainingArguments(\n",
    "  output_dir=\"./vit4/\"+category,\n",
    "  per_device_train_batch_size=128,\n",
    "  per_device_eval_batch_size=128,\n",
    "  evaluation_strategy=\"epoch\",\n",
    "  save_strategy=\"epoch\",\n",
    "  logging_strategy=\"epoch\",\n",
    "  num_train_epochs=10,\n",
    "  bf16=True,\n",
    "  learning_rate=2e-4,\n",
    "#   dataloader_num_workers=20,lr\n",
    "  save_total_limit=1,\n",
    "  remove_unused_columns=False,\n",
    "  push_to_hub=False,\n",
    "  report_to='wandb',\n",
    "  load_best_model_at_end=True,\n",
    "  metric_for_best_model=\"macro avg f1\"\n",
    "  \n",
    ")\n",
    "\n",
    "trainer = Trainer(\n",
    "    model,\n",
    "    training_args,\n",
    "    train_dataset=train_fashion_data,\n",
    "    eval_dataset=val_fashion_data,\n",
    "    data_collator=collate_fn,\n",
    "    compute_metrics=compute_metrics,\n",
    "    tokenizer=processor,\n",
    ")"
   ]
  },
  {
   "cell_type": "code",
   "execution_count": null,
   "id": "dccb554e",
   "metadata": {},
   "outputs": [
    {
     "name": "stdout",
     "output_type": "stream",
     "text": [
      "[2024-11-06 19:00:32,350] [INFO] [real_accelerator.py:203:get_accelerator] Setting ds_accelerator to cuda (auto detect)\n"
     ]
    },
    {
     "name": "stderr",
     "output_type": "stream",
     "text": [
      "/home/aseems/anaconda3/envs/mhcp4/compiler_compat/ld: cannot find -laio: No such file or directory\n",
      "collect2: error: ld returned 1 exit status\n"
     ]
    },
    {
     "name": "stdout",
     "output_type": "stream",
     "text": [
      "\u001b[93m [WARNING] \u001b[0m async_io requires the dev libaio .so object and headers but these were not found.\n",
      "\u001b[93m [WARNING] \u001b[0m async_io: please install the libaio-dev package with apt\n",
      "\u001b[93m [WARNING] \u001b[0m If libaio is already installed (perhaps from source), try setting the CFLAGS and LDFLAGS environment variables to where it can be found.\n",
      "\u001b[93m [WARNING] \u001b[0m Please specify the CUTLASS repo directory as environment variable $CUTLASS_PATH\n",
      "\u001b[93m [WARNING] \u001b[0m sparse_attn requires a torch version >= 1.5 and < 2.0 but detected 2.4\n",
      "\u001b[93m [WARNING] \u001b[0m using untested triton version (3.0.0), only 1.0.0 is known to be compatible\n"
     ]
    },
    {
     "name": "stderr",
     "output_type": "stream",
     "text": [
      "\u001b[34m\u001b[1mwandb\u001b[0m: \u001b[33mWARNING\u001b[0m The `run_name` is currently set to the same value as `TrainingArguments.output_dir`. If this was not intended, please specify a different run name by setting the `TrainingArguments.run_name` parameter.\n",
      "Failed to detect the name of this notebook, you can set it manually with the WANDB_NOTEBOOK_NAME environment variable to enable code saving.\n",
      "\u001b[34m\u001b[1mwandb\u001b[0m: Currently logged in as: \u001b[33mkaran21258\u001b[0m (\u001b[33mkaran912\u001b[0m). Use \u001b[1m`wandb login --relogin`\u001b[0m to force relogin\n"
     ]
    },
    {
     "data": {
      "text/html": [
       "wandb version 0.18.5 is available!  To upgrade, please run:\n",
       " $ pip install wandb --upgrade"
      ],
      "text/plain": [
       "<IPython.core.display.HTML object>"
      ]
     },
     "metadata": {},
     "output_type": "display_data"
    },
    {
     "data": {
      "text/html": [
       "Tracking run with wandb version 0.17.5"
      ],
      "text/plain": [
       "<IPython.core.display.HTML object>"
      ]
     },
     "metadata": {},
     "output_type": "display_data"
    },
    {
     "data": {
      "text/html": [
       "Run data is saved locally in <code>/home/aseems/ml/mchl/wandb/run-20241106_190036-741woze0</code>"
      ],
      "text/plain": [
       "<IPython.core.display.HTML object>"
      ]
     },
     "metadata": {},
     "output_type": "display_data"
    },
    {
     "data": {
      "text/html": [
       "Syncing run <strong><a href='https://wandb.ai/karan912/huggingface/runs/741woze0' target=\"_blank\">./vit5/Women Tops & Tunics</a></strong> to <a href='https://wandb.ai/karan912/huggingface' target=\"_blank\">Weights & Biases</a> (<a href='https://wandb.me/run' target=\"_blank\">docs</a>)<br/>"
      ],
      "text/plain": [
       "<IPython.core.display.HTML object>"
      ]
     },
     "metadata": {},
     "output_type": "display_data"
    },
    {
     "data": {
      "text/html": [
       " View project at <a href='https://wandb.ai/karan912/huggingface' target=\"_blank\">https://wandb.ai/karan912/huggingface</a>"
      ],
      "text/plain": [
       "<IPython.core.display.HTML object>"
      ]
     },
     "metadata": {},
     "output_type": "display_data"
    },
    {
     "data": {
      "text/html": [
       " View run at <a href='https://wandb.ai/karan912/huggingface/runs/741woze0' target=\"_blank\">https://wandb.ai/karan912/huggingface/runs/741woze0</a>"
      ],
      "text/plain": [
       "<IPython.core.display.HTML object>"
      ]
     },
     "metadata": {},
     "output_type": "display_data"
    },
    {
     "data": {
      "text/html": [
       "\n",
       "    <div>\n",
       "      \n",
       "      <progress value='6' max='1190' style='width:300px; height:20px; vertical-align: middle;'></progress>\n",
       "      [   6/1190 01:20 < 6:35:50, 0.05 it/s, Epoch 0.04/10]\n",
       "    </div>\n",
       "    <table border=\"1\" class=\"dataframe\">\n",
       "  <thead>\n",
       " <tr style=\"text-align: left;\">\n",
       "      <th>Epoch</th>\n",
       "      <th>Training Loss</th>\n",
       "      <th>Validation Loss</th>\n",
       "    </tr>\n",
       "  </thead>\n",
       "  <tbody>\n",
       "  </tbody>\n",
       "</table><p>"
      ],
      "text/plain": [
       "<IPython.core.display.HTML object>"
      ]
     },
     "metadata": {},
     "output_type": "display_data"
    }
   ],
   "source": [
    "trainer.train()\n",
    "trainer.save_model(f\"./vit4/{category}/final\")"
   ]
  },
  {
   "cell_type": "code",
   "execution_count": 26,
   "id": "c3474278",
   "metadata": {},
   "outputs": [
    {
     "name": "stdout",
     "output_type": "stream",
     "text": [
      "[2024-11-06 18:04:02,377] [INFO] [real_accelerator.py:203:get_accelerator] Setting ds_accelerator to cuda (auto detect)\n"
     ]
    },
    {
     "name": "stderr",
     "output_type": "stream",
     "text": [
      "/home/aseems/anaconda3/envs/mhcp4/compiler_compat/ld: cannot find -laio: No such file or directory\n",
      "collect2: error: ld returned 1 exit status\n"
     ]
    },
    {
     "name": "stdout",
     "output_type": "stream",
     "text": [
      "\u001b[93m [WARNING] \u001b[0m async_io requires the dev libaio .so object and headers but these were not found.\n",
      "\u001b[93m [WARNING] \u001b[0m async_io: please install the libaio-dev package with apt\n",
      "\u001b[93m [WARNING] \u001b[0m If libaio is already installed (perhaps from source), try setting the CFLAGS and LDFLAGS environment variables to where it can be found.\n",
      "\u001b[93m [WARNING] \u001b[0m Please specify the CUTLASS repo directory as environment variable $CUTLASS_PATH\n",
      "\u001b[93m [WARNING] \u001b[0m sparse_attn requires a torch version >= 1.5 and < 2.0 but detected 2.4\n",
      "\u001b[93m [WARNING] \u001b[0m using untested triton version (3.0.0), only 1.0.0 is known to be compatible\n"
     ]
    },
    {
     "data": {
      "text/html": [
       "\n",
       "    <div>\n",
       "      \n",
       "      <progress value='30' max='30' style='width:300px; height:20px; vertical-align: middle;'></progress>\n",
       "      [30/30 00:16]\n",
       "    </div>\n",
       "    "
      ],
      "text/plain": [
       "<IPython.core.display.HTML object>"
      ]
     },
     "metadata": {},
     "output_type": "display_data"
    },
    {
     "name": "stderr",
     "output_type": "stream",
     "text": [
      "\u001b[34m\u001b[1mwandb\u001b[0m: \u001b[33mWARNING\u001b[0m The `run_name` is currently set to the same value as `TrainingArguments.output_dir`. If this was not intended, please specify a different run name by setting the `TrainingArguments.run_name` parameter.\n"
     ]
    },
    {
     "name": "stdout",
     "output_type": "stream",
     "text": [
      "              precision    recall  f1-score   support\n",
      "\n",
      "           0       0.93      0.93      0.93     10998\n",
      "           1       0.89      0.89      0.89      6026\n",
      "           2       0.90      0.90      0.90      2981\n",
      "           3       0.87      0.86      0.86      2473\n",
      "           4       0.71      0.72      0.72       658\n",
      "           5       0.87      0.86      0.87       938\n",
      "           6       0.74      0.70      0.72       346\n",
      "           7       0.73      0.81      0.77       192\n",
      "           8       0.85      0.85      0.85       310\n",
      "           9       0.80      0.85      0.82       171\n",
      "          10       0.82      0.74      0.78        81\n",
      "          11       0.61      0.49      0.54        87\n",
      "\n",
      "    accuracy                           0.90     25261\n",
      "   macro avg       0.81      0.80      0.80     25261\n",
      "weighted avg       0.90      0.90      0.90     25261\n",
      "\n"
     ]
    },
    {
     "name": "stderr",
     "output_type": "stream",
     "text": [
      "Failed to detect the name of this notebook, you can set it manually with the WANDB_NOTEBOOK_NAME environment variable to enable code saving.\n",
      "\u001b[34m\u001b[1mwandb\u001b[0m: Currently logged in as: \u001b[33mkaran21258\u001b[0m (\u001b[33mkaran912\u001b[0m). Use \u001b[1m`wandb login --relogin`\u001b[0m to force relogin\n"
     ]
    },
    {
     "data": {
      "text/html": [
       "wandb version 0.18.5 is available!  To upgrade, please run:\n",
       " $ pip install wandb --upgrade"
      ],
      "text/plain": [
       "<IPython.core.display.HTML object>"
      ]
     },
     "metadata": {},
     "output_type": "display_data"
    },
    {
     "data": {
      "text/html": [
       "Tracking run with wandb version 0.17.5"
      ],
      "text/plain": [
       "<IPython.core.display.HTML object>"
      ]
     },
     "metadata": {},
     "output_type": "display_data"
    },
    {
     "data": {
      "text/html": [
       "Run data is saved locally in <code>/home/aseems/ml/mchl/wandb/run-20241106_180423-tlmnrfes</code>"
      ],
      "text/plain": [
       "<IPython.core.display.HTML object>"
      ]
     },
     "metadata": {},
     "output_type": "display_data"
    },
    {
     "data": {
      "text/html": [
       "Syncing run <strong><a href='https://wandb.ai/karan912/huggingface/runs/tlmnrfes' target=\"_blank\">./vit4/Women Tops & Tunics</a></strong> to <a href='https://wandb.ai/karan912/huggingface' target=\"_blank\">Weights & Biases</a> (<a href='https://wandb.me/run' target=\"_blank\">docs</a>)<br/>"
      ],
      "text/plain": [
       "<IPython.core.display.HTML object>"
      ]
     },
     "metadata": {},
     "output_type": "display_data"
    },
    {
     "data": {
      "text/html": [
       " View project at <a href='https://wandb.ai/karan912/huggingface' target=\"_blank\">https://wandb.ai/karan912/huggingface</a>"
      ],
      "text/plain": [
       "<IPython.core.display.HTML object>"
      ]
     },
     "metadata": {},
     "output_type": "display_data"
    },
    {
     "data": {
      "text/html": [
       " View run at <a href='https://wandb.ai/karan912/huggingface/runs/tlmnrfes' target=\"_blank\">https://wandb.ai/karan912/huggingface/runs/tlmnrfes</a>"
      ],
      "text/plain": [
       "<IPython.core.display.HTML object>"
      ]
     },
     "metadata": {},
     "output_type": "display_data"
    },
    {
     "data": {
      "text/plain": [
       "{'eval_loss': 4.760494709014893,\n",
       " 'eval_model_preparation_time': 0.0051,\n",
       " 'eval_accuracy': 0.8960452872016151,\n",
       " 'eval_macro avg f1': 0.8041487151375172,\n",
       " 'eval_runtime': 20.0533,\n",
       " 'eval_samples_per_second': 189.545,\n",
       " 'eval_steps_per_second': 1.496}"
      ]
     },
     "execution_count": 26,
     "metadata": {},
     "output_type": "execute_result"
    }
   ],
   "source": [
    "trainer.evaluate(val_fashion_data)\n",
    "#1-54(imbalance),2-65,3-85,5-56,6-70,7-52(imbalance),8-51(imbalance),9-60(imbalance),10-49(imbalance)\n",
    "#4-30,"
   ]
  },
  {
   "cell_type": "code",
   "execution_count": null,
   "id": "516b1876",
   "metadata": {},
   "outputs": [],
   "source": [
    "from transformers import pipeline,AutoModelForCausalLM,LlamaForCausalLM\n",
    "\n",
    "model=AutoModelForCausalLM.from_pretrained(f\"Llama3\")\n",
    "model.generate()"
   ]
  }
 ],
 "metadata": {
  "kernelspec": {
   "display_name": "mhcp4",
   "language": "python",
   "name": "python3"
  },
  "language_info": {
   "codemirror_mode": {
    "name": "ipython",
    "version": 3
   },
   "file_extension": ".py",
   "mimetype": "text/x-python",
   "name": "python",
   "nbconvert_exporter": "python",
   "pygments_lexer": "ipython3",
   "version": "3.8.19"
  }
 },
 "nbformat": 4,
 "nbformat_minor": 5
}
